{
  "nbformat": 4,
  "nbformat_minor": 0,
  "metadata": {
    "colab": {
      "name": "Lab_1_task.ipynb",
      "provenance": [],
      "collapsed_sections": [],
      "authorship_tag": "ABX9TyPilMaGplW13V6Hq9aCgtsj",
      "include_colab_link": true
    },
    "kernelspec": {
      "name": "python3",
      "display_name": "Python 3"
    },
    "accelerator": "GPU"
  },
  "cells": [
    {
      "cell_type": "markdown",
      "metadata": {
        "id": "view-in-github",
        "colab_type": "text"
      },
      "source": [
        "<a href=\"https://colab.research.google.com/github/Tahaa1995/CE888/blob/master/Lab_01/Lab_1_task.ipynb\" target=\"_parent\"><img src=\"https://colab.research.google.com/assets/colab-badge.svg\" alt=\"Open In Colab\"/></a>"
      ]
    },
    {
      "cell_type": "code",
      "metadata": {
        "id": "AFXn9-1jw_CJ",
        "colab_type": "code",
        "colab": {}
      },
      "source": [
        "import matplotlib.pyplot as plt\n",
        "import numpy as np\n",
        "\n",
        "t = np.linspace(0, 2*np.pi, 50)\n",
        "x = np.sin(t)\n",
        "y = np.cos(t)"
      ],
      "execution_count": 0,
      "outputs": []
    },
    {
      "cell_type": "code",
      "metadata": {
        "id": "2dUJN7RXLbK5",
        "colab_type": "code",
        "outputId": "d524c336-1731-4b4c-86b0-5cbc9f53916b",
        "colab": {
          "base_uri": "https://localhost:8080/",
          "height": 51
        }
      },
      "source": [
        "#Tasks_1\n",
        "a = np.array([[ 1, 2, 3, 4],\n",
        "              [1,2,3,4]])\n",
        "print(a)"
      ],
      "execution_count": 2,
      "outputs": [
        {
          "output_type": "stream",
          "text": [
            "[[1 2 3 4]\n",
            " [1 2 3 4]]\n"
          ],
          "name": "stdout"
        }
      ]
    },
    {
      "cell_type": "code",
      "metadata": {
        "id": "4QNlGfswMghm",
        "colab_type": "code",
        "outputId": "a4551381-9df1-4026-e297-b0a66bec0cdb",
        "colab": {
          "base_uri": "https://localhost:8080/",
          "height": 34
        }
      },
      "source": [
        "#Task_2_a\n",
        "\n",
        "a = np.array([8, 5, 6, 3, 9, 1, 4, 2, 7, 0])\n",
        "\n",
        "# Sort in ascending order\n",
        "sorted_array = np.sort(a)\n",
        "print(sorted_array)"
      ],
      "execution_count": 3,
      "outputs": [
        {
          "output_type": "stream",
          "text": [
            "[0 1 2 3 4 5 6 7 8 9]\n"
          ],
          "name": "stdout"
        }
      ]
    },
    {
      "cell_type": "code",
      "metadata": {
        "id": "MPchYnAYO9DJ",
        "colab_type": "code",
        "outputId": "f304b846-778c-42cc-a2fb-b46fba0cfba1",
        "colab": {
          "base_uri": "https://localhost:8080/",
          "height": 34
        }
      },
      "source": [
        "#Task_2_b\n",
        "a = np.array([8, 5, 6, 3, 9, 1, 4, 2, 7, 0])\n",
        "\n",
        "#sorted in decending order\n",
        "reverse_array = sorted_array[::-1]\n",
        "print(reverse_array)"
      ],
      "execution_count": 4,
      "outputs": [
        {
          "output_type": "stream",
          "text": [
            "[9 8 7 6 5 4 3 2 1 0]\n"
          ],
          "name": "stdout"
        }
      ]
    },
    {
      "cell_type": "code",
      "metadata": {
        "id": "FrWkZhgDPeoL",
        "colab_type": "code",
        "outputId": "7afc4d83-0f0a-45d0-820b-ab1f039ae94b",
        "colab": {
          "base_uri": "https://localhost:8080/",
          "height": 34
        }
      },
      "source": [
        "a = np.array([ 1, 2, 3, 4, 5, 6, 7, 8, 9])\n",
        "\n",
        "print(a)"
      ],
      "execution_count": 5,
      "outputs": [
        {
          "output_type": "stream",
          "text": [
            "[1 2 3 4 5 6 7 8 9]\n"
          ],
          "name": "stdout"
        }
      ]
    },
    {
      "cell_type": "code",
      "metadata": {
        "id": "CyiPQDlaRpce",
        "colab_type": "code",
        "outputId": "2eb37e6e-6adf-4a23-ea7a-23d8fd4c5be2",
        "colab": {
          "base_uri": "https://localhost:8080/",
          "height": 68
        }
      },
      "source": [
        "#Task_3\n",
        "\n",
        "a = np.array([ 1, 2, 3, 4, 5, 6, 7, 8, 9])\n",
        "\n",
        "np.resize(a, 9).reshape(3,3)"
      ],
      "execution_count": 6,
      "outputs": [
        {
          "output_type": "execute_result",
          "data": {
            "text/plain": [
              "array([[1, 2, 3],\n",
              "       [4, 5, 6],\n",
              "       [7, 8, 9]])"
            ]
          },
          "metadata": {
            "tags": []
          },
          "execution_count": 6
        }
      ]
    },
    {
      "cell_type": "code",
      "metadata": {
        "id": "Pkb8ePtgUfo5",
        "colab_type": "code",
        "outputId": "28a842c9-1bc1-4554-a15f-c1e20f503b6d",
        "colab": {
          "base_uri": "https://localhost:8080/",
          "height": 34
        }
      },
      "source": [
        "#Task_4_a\n",
        "\n",
        "a = np.array([ 1, 2, 3, 4, 5, 6, 7, 8, 9])\n",
        "b = np.array([9,8,7,6,5,4,3,2,1])\n",
        "#horizontal\n",
        "np.hstack((a,b))"
      ],
      "execution_count": 7,
      "outputs": [
        {
          "output_type": "execute_result",
          "data": {
            "text/plain": [
              "array([1, 2, 3, 4, 5, 6, 7, 8, 9, 9, 8, 7, 6, 5, 4, 3, 2, 1])"
            ]
          },
          "metadata": {
            "tags": []
          },
          "execution_count": 7
        }
      ]
    },
    {
      "cell_type": "code",
      "metadata": {
        "id": "ShnXX0dc0Z0R",
        "colab_type": "code",
        "outputId": "41f91dbc-c978-44d6-e1eb-97f682111f46",
        "colab": {
          "base_uri": "https://localhost:8080/",
          "height": 51
        }
      },
      "source": [
        "#Task_4_b\n",
        "\n",
        "#vertical\n",
        "np.vstack((a,b))"
      ],
      "execution_count": 8,
      "outputs": [
        {
          "output_type": "execute_result",
          "data": {
            "text/plain": [
              "array([[1, 2, 3, 4, 5, 6, 7, 8, 9],\n",
              "       [9, 8, 7, 6, 5, 4, 3, 2, 1]])"
            ]
          },
          "metadata": {
            "tags": []
          },
          "execution_count": 8
        }
      ]
    },
    {
      "cell_type": "code",
      "metadata": {
        "id": "F4xiWr8kVhFJ",
        "colab_type": "code",
        "outputId": "83cccfc2-6dd0-4c3f-942c-d599d3671b61",
        "colab": {
          "base_uri": "https://localhost:8080/",
          "height": 34
        }
      },
      "source": [
        "#Task_5\n",
        "\n",
        "a = np.array([5,6,7,8,9,1])\n",
        "b = np.array([1,2,3,4,5,6])\n",
        "\n",
        "list(set(a).intersection(b))"
      ],
      "execution_count": 9,
      "outputs": [
        {
          "output_type": "execute_result",
          "data": {
            "text/plain": [
              "[1, 5, 6]"
            ]
          },
          "metadata": {
            "tags": []
          },
          "execution_count": 9
        }
      ]
    },
    {
      "cell_type": "code",
      "metadata": {
        "id": "zWS5-f2hWbMO",
        "colab_type": "code",
        "outputId": "441438b4-f824-4655-843d-5464b9e4c757",
        "colab": {
          "base_uri": "https://localhost:8080/",
          "height": 204
        }
      },
      "source": [
        "#Task_6\n",
        "\n",
        "a = np.random.randint(0, 10, (5,5))\n",
        "print(a)\n",
        "\n",
        "print(\"\")\n",
        "print(\"for Row:\")\n",
        "print(f\"Minimum: {a.min(axis=1)}, maximum: {a.max(axis=1)}\")\n",
        "\n",
        "print(\"\")\n",
        "print(\"For coluomn:\")\n",
        "print(f\"Minimum: {a.min(axis=0)}, maximum: {a.max(axis=0)}\")"
      ],
      "execution_count": 10,
      "outputs": [
        {
          "output_type": "stream",
          "text": [
            "[[5 4 9 4 4]\n",
            " [7 3 2 2 9]\n",
            " [1 6 2 7 9]\n",
            " [0 4 5 0 9]\n",
            " [8 7 6 0 4]]\n",
            "\n",
            "for Row:\n",
            "Minimum: [4 2 1 0 0], maximum: [9 9 9 9 8]\n",
            "\n",
            "For coluomn:\n",
            "Minimum: [0 3 2 0 4], maximum: [8 7 9 7 9]\n"
          ],
          "name": "stdout"
        }
      ]
    },
    {
      "cell_type": "code",
      "metadata": {
        "id": "-0qeJJI_8FAA",
        "colab_type": "code",
        "outputId": "0432b938-3bab-4ea0-b4da-14822f7782b3",
        "colab": {
          "base_uri": "https://localhost:8080/",
          "height": 102
        }
      },
      "source": [
        "#Task_7\n",
        "\n",
        "a = np.random.randint(0, 10, (100))\n",
        "print(a)\n",
        "print(\"\")\n",
        "\n",
        "print(f\"Mean: {a.mean()}, Median: {np.median(a)}, Standard Deviation: {a.std()}\")"
      ],
      "execution_count": 11,
      "outputs": [
        {
          "output_type": "stream",
          "text": [
            "[0 5 5 3 4 4 6 3 5 7 5 7 1 8 9 2 1 8 0 0 3 8 9 7 7 2 7 9 7 9 3 4 3 6 2 8 4\n",
            " 2 9 1 3 9 5 1 7 6 9 4 8 9 5 4 0 0 9 0 5 5 3 3 6 8 0 3 2 7 2 7 8 0 6 8 0 2\n",
            " 0 4 4 5 8 2 5 0 5 4 7 3 2 3 5 3 1 1 9 9 9 9 7 2 9 5]\n",
            "\n",
            "Mean: 4.68, Median: 5.0, Standard Deviation: 2.935574901105404\n"
          ],
          "name": "stdout"
        }
      ]
    },
    {
      "cell_type": "code",
      "metadata": {
        "id": "8rIbQ_GS9YUn",
        "colab_type": "code",
        "outputId": "6c07d806-466e-4c2a-d98c-2252be420cf7",
        "colab": {
          "base_uri": "https://localhost:8080/",
          "height": 221
        }
      },
      "source": [
        "#Task_8\n",
        "\n",
        "a = np.random.random((5,5))\n",
        "print(a)\n",
        "print(\"\")\n",
        "\n",
        "max, min = a.max(), a.min()\n",
        "a = (a - min)/(max - min)\n",
        "\n",
        "print(\"normalization:\")\n",
        "print(a)"
      ],
      "execution_count": 12,
      "outputs": [
        {
          "output_type": "stream",
          "text": [
            "[[0.25283827 0.26782751 0.64634317 0.47811835 0.34851604]\n",
            " [0.09577718 0.60618154 0.63719482 0.22163776 0.66683733]\n",
            " [0.61158257 0.85183909 0.25466504 0.87366497 0.33403157]\n",
            " [0.74828856 0.94553303 0.64585058 0.28494554 0.48726097]\n",
            " [0.81226524 0.22630158 0.97314636 0.6852233  0.80791435]]\n",
            "\n",
            "normalization:\n",
            "[[0.17901369 0.19609799 0.62751918 0.4357814  0.28806444]\n",
            " [0.         0.58174412 0.61709216 0.14345225 0.65087784]\n",
            " [0.58790006 0.86173748 0.18109579 0.886614   0.27155546]\n",
            " [0.74371359 0.96852713 0.62695774 0.21560862 0.44620189]\n",
            " [0.81663236 0.14876793 1.         0.67183363 0.81167334]]\n"
          ],
          "name": "stdout"
        }
      ]
    },
    {
      "cell_type": "code",
      "metadata": {
        "id": "IwACYb0m_Wf5",
        "colab_type": "code",
        "outputId": "c512e805-b2b7-4911-b412-61f5a4eaff8a",
        "colab": {
          "base_uri": "https://localhost:8080/",
          "height": 595
        }
      },
      "source": [
        "#Task_9\n",
        "\n",
        "a = np.random.randint(0, 10, (3,4,4))\n",
        "print(\"a=\",a)\n",
        "print(\"\")\n",
        "\n",
        "b = np.random.randint(0, 10, (4,4))\n",
        "print(\"b=\",b)\n",
        "print(\"\")\n",
        "\n",
        "c = a*b\n",
        "print(\"c=\",c)"
      ],
      "execution_count": 13,
      "outputs": [
        {
          "output_type": "stream",
          "text": [
            "a= [[[3 4 1 4]\n",
            "  [8 1 9 1]\n",
            "  [3 4 8 2]\n",
            "  [1 4 1 6]]\n",
            "\n",
            " [[5 3 3 2]\n",
            "  [6 4 7 3]\n",
            "  [0 0 9 6]\n",
            "  [0 1 3 9]]\n",
            "\n",
            " [[2 6 4 3]\n",
            "  [8 2 1 6]\n",
            "  [6 8 5 4]\n",
            "  [0 0 9 1]]]\n",
            "\n",
            "b= [[3 0 9 7]\n",
            " [1 7 6 9]\n",
            " [7 2 5 8]\n",
            " [1 8 7 8]]\n",
            "\n",
            "c= [[[ 9  0  9 28]\n",
            "  [ 8  7 54  9]\n",
            "  [21  8 40 16]\n",
            "  [ 1 32  7 48]]\n",
            "\n",
            " [[15  0 27 14]\n",
            "  [ 6 28 42 27]\n",
            "  [ 0  0 45 48]\n",
            "  [ 0  8 21 72]]\n",
            "\n",
            " [[ 6  0 36 21]\n",
            "  [ 8 14  6 54]\n",
            "  [42 16 25 32]\n",
            "  [ 0  0 63  8]]]\n"
          ],
          "name": "stdout"
        }
      ]
    }
  ]
}