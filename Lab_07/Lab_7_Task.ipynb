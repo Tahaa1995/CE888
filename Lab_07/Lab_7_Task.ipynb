{
  "nbformat": 4,
  "nbformat_minor": 0,
  "metadata": {
    "colab": {
      "name": "Lab_7_Task.ipynb",
      "provenance": [],
      "authorship_tag": "ABX9TyNigkkynnxd+UwbUGJs21YE",
      "include_colab_link": true
    },
    "kernelspec": {
      "name": "python3",
      "display_name": "Python 3"
    },
    "accelerator": "GPU"
  },
  "cells": [
    {
      "cell_type": "markdown",
      "metadata": {
        "id": "view-in-github",
        "colab_type": "text"
      },
      "source": [
        "<a href=\"https://colab.research.google.com/github/Tahaa1995/CE888/blob/master/Lab_07/Lab_7_Task.ipynb\" target=\"_parent\"><img src=\"https://colab.research.google.com/assets/colab-badge.svg\" alt=\"Open In Colab\"/></a>"
      ]
    },
    {
      "cell_type": "code",
      "metadata": {
        "id": "pkq3YmhlTfWz",
        "colab_type": "code",
        "outputId": "039c3ee4-2ed7-416a-86fa-cbe981b00a12",
        "colab": {
          "base_uri": "https://localhost:8080/",
          "height": 68
        }
      },
      "source": [
        "import os\n",
        "os.environ['KAGGLE_USERNAME'] = \"tahaairshad\" # username from the json file\n",
        "os.environ['KAGGLE_KEY'] = \"b1b07e579423c1e6ecbb63a5d21d5fc9\" # key from the json file\n",
        "!kaggle datasets download -d gpiosenka/100-bird-species # api copied from kaggle"
      ],
      "execution_count": 1,
      "outputs": [
        {
          "output_type": "stream",
          "text": [
            "Downloading 100-bird-species.zip to /content\n",
            " 99% 2.24G/2.26G [00:28<00:00, 102MB/s] \n",
            "100% 2.26G/2.26G [00:28<00:00, 86.1MB/s]\n"
          ],
          "name": "stdout"
        }
      ]
    },
    {
      "cell_type": "code",
      "metadata": {
        "id": "zfegceqflFWe",
        "colab_type": "code",
        "outputId": "21ba68d5-96a3-4a31-b51e-71be72237b9b",
        "colab": {
          "base_uri": "https://localhost:8080/",
          "height": 34
        }
      },
      "source": [
        "from zipfile import ZipFile\n",
        "\n",
        "file_name = \"/content/100-bird-species.zip\"\n",
        "\n",
        "with ZipFile(file_name, 'r') as zip:\n",
        "  zip.extractall()\n",
        "  print('done')"
      ],
      "execution_count": 2,
      "outputs": [
        {
          "output_type": "stream",
          "text": [
            "done\n"
          ],
          "name": "stdout"
        }
      ]
    },
    {
      "cell_type": "code",
      "metadata": {
        "id": "Hx8HzsDlCtRp",
        "colab_type": "code",
        "outputId": "cd477d62-8efc-4ca0-e7ed-f603285ffe20",
        "colab": {
          "base_uri": "https://localhost:8080/",
          "height": 34
        }
      },
      "source": [
        "data_dir_list = os.listdir('/content/180/train')\n",
        "#print(data_dir_list)\n",
        "\n",
        "path, dirs, files = next(os.walk(\"/content/180/train\"))\n",
        "file_count = len(files)\n",
        "print(file_count)"
      ],
      "execution_count": 3,
      "outputs": [
        {
          "output_type": "stream",
          "text": [
            "0\n"
          ],
          "name": "stdout"
        }
      ]
    },
    {
      "cell_type": "code",
      "metadata": {
        "id": "iIbpaRciDicb",
        "colab_type": "code",
        "colab": {}
      },
      "source": [
        "original_dataset_dir = '/content/180/train'\n",
        "base_dir = '/content/180'"
      ],
      "execution_count": 0,
      "outputs": []
    },
    {
      "cell_type": "code",
      "metadata": {
        "id": "uGmStTmuHKjB",
        "colab_type": "code",
        "colab": {
          "base_uri": "https://localhost:8080/",
          "height": 34
        },
        "outputId": "1a56c077-debf-406f-ad12-854b6086b0f4"
      },
      "source": [
        "%tensorflow_version 1.x"
      ],
      "execution_count": 5,
      "outputs": [
        {
          "output_type": "stream",
          "text": [
            "TensorFlow 1.x selected.\n"
          ],
          "name": "stdout"
        }
      ]
    },
    {
      "cell_type": "code",
      "metadata": {
        "id": "-rQ_XMmBJxbX",
        "colab_type": "code",
        "colab": {
          "base_uri": "https://localhost:8080/",
          "height": 700
        },
        "outputId": "708bff27-c54e-49eb-dac2-caf0a976732c"
      },
      "source": [
        "from keras import layers\n",
        "from keras import models\n",
        "\n",
        "model = models.Sequential()\n",
        "model.add(layers.Conv2D(32, (3, 3), activation='relu', input_shape=(150, 150, 3)))\n",
        "model.add(layers.MaxPooling2D((2, 2)))\n",
        "model.add(layers.Conv2D(64, (3, 3), activation='relu'))\n",
        "model.add(layers.MaxPooling2D((2, 2)))\n",
        "model.add(layers.Conv2D(128, (3, 3), activation='relu'))\n",
        "model.add(layers.MaxPooling2D((2, 2)))\n",
        "model.add(layers.Conv2D(128, (3, 3), activation='relu'))\n",
        "model.add(layers.MaxPooling2D((2, 2)))\n",
        "model.add(layers.Flatten())\n",
        "model.add(layers.Dense(512, activation='relu'))\n",
        "model.add(layers.Dense(1, activation='sigmoid'))\n",
        "model.summary()"
      ],
      "execution_count": 6,
      "outputs": [
        {
          "output_type": "stream",
          "text": [
            "Using TensorFlow backend.\n"
          ],
          "name": "stderr"
        },
        {
          "output_type": "stream",
          "text": [
            "WARNING:tensorflow:From /usr/local/lib/python3.6/dist-packages/keras/backend/tensorflow_backend.py:66: The name tf.get_default_graph is deprecated. Please use tf.compat.v1.get_default_graph instead.\n",
            "\n",
            "WARNING:tensorflow:From /usr/local/lib/python3.6/dist-packages/keras/backend/tensorflow_backend.py:541: The name tf.placeholder is deprecated. Please use tf.compat.v1.placeholder instead.\n",
            "\n",
            "WARNING:tensorflow:From /usr/local/lib/python3.6/dist-packages/keras/backend/tensorflow_backend.py:4432: The name tf.random_uniform is deprecated. Please use tf.random.uniform instead.\n",
            "\n",
            "WARNING:tensorflow:From /usr/local/lib/python3.6/dist-packages/keras/backend/tensorflow_backend.py:4267: The name tf.nn.max_pool is deprecated. Please use tf.nn.max_pool2d instead.\n",
            "\n",
            "Model: \"sequential_1\"\n",
            "_________________________________________________________________\n",
            "Layer (type)                 Output Shape              Param #   \n",
            "=================================================================\n",
            "conv2d_1 (Conv2D)            (None, 148, 148, 32)      896       \n",
            "_________________________________________________________________\n",
            "max_pooling2d_1 (MaxPooling2 (None, 74, 74, 32)        0         \n",
            "_________________________________________________________________\n",
            "conv2d_2 (Conv2D)            (None, 72, 72, 64)        18496     \n",
            "_________________________________________________________________\n",
            "max_pooling2d_2 (MaxPooling2 (None, 36, 36, 64)        0         \n",
            "_________________________________________________________________\n",
            "conv2d_3 (Conv2D)            (None, 34, 34, 128)       73856     \n",
            "_________________________________________________________________\n",
            "max_pooling2d_3 (MaxPooling2 (None, 17, 17, 128)       0         \n",
            "_________________________________________________________________\n",
            "conv2d_4 (Conv2D)            (None, 15, 15, 128)       147584    \n",
            "_________________________________________________________________\n",
            "max_pooling2d_4 (MaxPooling2 (None, 7, 7, 128)         0         \n",
            "_________________________________________________________________\n",
            "flatten_1 (Flatten)          (None, 6272)              0         \n",
            "_________________________________________________________________\n",
            "dense_1 (Dense)              (None, 512)               3211776   \n",
            "_________________________________________________________________\n",
            "dense_2 (Dense)              (None, 1)                 513       \n",
            "=================================================================\n",
            "Total params: 3,453,121\n",
            "Trainable params: 3,453,121\n",
            "Non-trainable params: 0\n",
            "_________________________________________________________________\n"
          ],
          "name": "stdout"
        }
      ]
    },
    {
      "cell_type": "code",
      "metadata": {
        "id": "jTUmG9_kJ4WX",
        "colab_type": "code",
        "colab": {
          "base_uri": "https://localhost:8080/",
          "height": 156
        },
        "outputId": "15b2fcf3-6991-4430-e45a-efaee7a17e7b"
      },
      "source": [
        "from keras import optimizers\n",
        "model.compile(loss='binary_crossentropy', \n",
        "              optimizer=optimizers.RMSprop(lr=1e-4),\n",
        "              metrics=['acc'])"
      ],
      "execution_count": 7,
      "outputs": [
        {
          "output_type": "stream",
          "text": [
            "WARNING:tensorflow:From /usr/local/lib/python3.6/dist-packages/keras/optimizers.py:793: The name tf.train.Optimizer is deprecated. Please use tf.compat.v1.train.Optimizer instead.\n",
            "\n",
            "WARNING:tensorflow:From /usr/local/lib/python3.6/dist-packages/keras/backend/tensorflow_backend.py:3657: The name tf.log is deprecated. Please use tf.math.log instead.\n",
            "\n",
            "WARNING:tensorflow:From /tensorflow-1.15.2/python3.6/tensorflow_core/python/ops/nn_impl.py:183: where (from tensorflow.python.ops.array_ops) is deprecated and will be removed in a future version.\n",
            "Instructions for updating:\n",
            "Use tf.where in 2.0, which has the same broadcast rule as np.where\n"
          ],
          "name": "stdout"
        }
      ]
    },
    {
      "cell_type": "code",
      "metadata": {
        "id": "e3tq7_QRKeSr",
        "colab_type": "code",
        "colab": {}
      },
      "source": [
        "train_dir = os.path.join(base_dir, 'train')\n",
        "\n",
        "validation_dir = os.path.join(base_dir, 'valid')\n",
        "\n",
        "test_dir = os.path.join(base_dir, 'test')"
      ],
      "execution_count": 0,
      "outputs": []
    },
    {
      "cell_type": "code",
      "metadata": {
        "id": "DKXsLv1LKAoT",
        "colab_type": "code",
        "colab": {
          "base_uri": "https://localhost:8080/",
          "height": 51
        },
        "outputId": "786f946d-49bc-4c9f-c1d2-c40a489580bf"
      },
      "source": [
        "from keras.preprocessing.image import ImageDataGenerator\n",
        "\n",
        "train_datagen = ImageDataGenerator(rescale=1./255)\n",
        "test_datagen = ImageDataGenerator(rescale=1./255)\n",
        "\n",
        "train_generator = train_datagen.flow_from_directory(train_dir,\n",
        "                                                    target_size=(150, 150), \n",
        "                                                    batch_size=20,\n",
        "                                                    class_mode='binary')\n",
        "\n",
        "validation_generator = test_datagen.flow_from_directory(validation_dir,\n",
        "                                                        target_size=(150, 150),\n",
        "                                                        batch_size=20,\n",
        "                                                        class_mode='binary')"
      ],
      "execution_count": 12,
      "outputs": [
        {
          "output_type": "stream",
          "text": [
            "Found 24497 images belonging to 180 classes.\n",
            "Found 900 images belonging to 180 classes.\n"
          ],
          "name": "stdout"
        }
      ]
    },
    {
      "cell_type": "code",
      "metadata": {
        "id": "hPTJ2z1IKJ3a",
        "colab_type": "code",
        "colab": {
          "base_uri": "https://localhost:8080/",
          "height": 1000
        },
        "outputId": "757450c3-bde2-41bd-e590-81fbd9127e66"
      },
      "source": [
        "history = model.fit_generator(train_generator,\n",
        "                              steps_per_epoch=100,\n",
        "                              epochs=30,\n",
        "                              validation_data=validation_generator,\n",
        "                              validation_steps=10)"
      ],
      "execution_count": 13,
      "outputs": [
        {
          "output_type": "stream",
          "text": [
            "WARNING:tensorflow:From /usr/local/lib/python3.6/dist-packages/keras/backend/tensorflow_backend.py:1033: The name tf.assign_add is deprecated. Please use tf.compat.v1.assign_add instead.\n",
            "\n",
            "WARNING:tensorflow:From /usr/local/lib/python3.6/dist-packages/keras/backend/tensorflow_backend.py:1020: The name tf.assign is deprecated. Please use tf.compat.v1.assign instead.\n",
            "\n",
            "WARNING:tensorflow:From /usr/local/lib/python3.6/dist-packages/keras/backend/tensorflow_backend.py:3005: The name tf.Session is deprecated. Please use tf.compat.v1.Session instead.\n",
            "\n",
            "Epoch 1/30\n",
            "WARNING:tensorflow:From /usr/local/lib/python3.6/dist-packages/keras/backend/tensorflow_backend.py:190: The name tf.get_default_session is deprecated. Please use tf.compat.v1.get_default_session instead.\n",
            "\n",
            "WARNING:tensorflow:From /usr/local/lib/python3.6/dist-packages/keras/backend/tensorflow_backend.py:197: The name tf.ConfigProto is deprecated. Please use tf.compat.v1.ConfigProto instead.\n",
            "\n",
            "WARNING:tensorflow:From /usr/local/lib/python3.6/dist-packages/keras/backend/tensorflow_backend.py:207: The name tf.global_variables is deprecated. Please use tf.compat.v1.global_variables instead.\n",
            "\n",
            "WARNING:tensorflow:From /usr/local/lib/python3.6/dist-packages/keras/backend/tensorflow_backend.py:216: The name tf.is_variable_initialized is deprecated. Please use tf.compat.v1.is_variable_initialized instead.\n",
            "\n",
            "WARNING:tensorflow:From /usr/local/lib/python3.6/dist-packages/keras/backend/tensorflow_backend.py:223: The name tf.variables_initializer is deprecated. Please use tf.compat.v1.variables_initializer instead.\n",
            "\n",
            "100/100 [==============================] - 19s 185ms/step - loss: -1368.9610 - acc: 0.0070 - val_loss: -1397.5892 - val_acc: 0.0050\n",
            "Epoch 2/30\n",
            "100/100 [==============================] - 4s 39ms/step - loss: -1434.7031 - acc: 0.0080 - val_loss: -1375.9076 - val_acc: 0.0050\n",
            "Epoch 3/30\n",
            "100/100 [==============================] - 4s 39ms/step - loss: -1428.7808 - acc: 0.0070 - val_loss: -1459.1268 - val_acc: 0.0050\n",
            "Epoch 4/30\n",
            "100/100 [==============================] - 4s 39ms/step - loss: -1443.8699 - acc: 0.0025 - val_loss: -1397.1906 - val_acc: 0.0100\n",
            "Epoch 5/30\n",
            "100/100 [==============================] - 4s 41ms/step - loss: -1410.7895 - acc: 0.0060 - val_loss: -1439.1191 - val_acc: 0.0050\n",
            "Epoch 6/30\n",
            "100/100 [==============================] - 4s 38ms/step - loss: -1398.6733 - acc: 0.0085 - val_loss: -1375.6684 - val_acc: 0.0050\n",
            "Epoch 7/30\n",
            "100/100 [==============================] - 4s 40ms/step - loss: -1388.2788 - acc: 0.0080 - val_loss: -1371.2843 - val_acc: 0.0150\n",
            "Epoch 8/30\n",
            "100/100 [==============================] - 4s 40ms/step - loss: -1416.0266 - acc: 0.0110 - val_loss: -1408.5097 - val_acc: 0.0000e+00\n",
            "Epoch 9/30\n",
            "100/100 [==============================] - 4s 40ms/step - loss: -1410.4148 - acc: 0.0055 - val_loss: -1473.7141 - val_acc: 0.0000e+00\n",
            "Epoch 10/30\n",
            "100/100 [==============================] - 4s 40ms/step - loss: -1388.9404 - acc: 0.0060 - val_loss: -1465.0255 - val_acc: 0.0050\n",
            "Epoch 11/30\n",
            "100/100 [==============================] - 4s 42ms/step - loss: -1419.1280 - acc: 0.0060 - val_loss: -1474.5112 - val_acc: 0.0050\n",
            "Epoch 12/30\n",
            "100/100 [==============================] - 4s 39ms/step - loss: -1466.5081 - acc: 0.0050 - val_loss: -1379.5743 - val_acc: 0.0050\n",
            "Epoch 13/30\n",
            "100/100 [==============================] - 4s 41ms/step - loss: -1424.0695 - acc: 0.0090 - val_loss: -1351.3563 - val_acc: 0.0100\n",
            "Epoch 14/30\n",
            "100/100 [==============================] - 4s 41ms/step - loss: -1423.0492 - acc: 0.0100 - val_loss: -1345.4576 - val_acc: 0.0050\n",
            "Epoch 15/30\n",
            "100/100 [==============================] - 4s 39ms/step - loss: -1427.9674 - acc: 0.0050 - val_loss: -1443.6627 - val_acc: 0.0050\n",
            "Epoch 16/30\n",
            "100/100 [==============================] - 4s 40ms/step - loss: -1406.3336 - acc: 0.0060 - val_loss: -1441.8293 - val_acc: 0.0100\n",
            "Epoch 17/30\n",
            "100/100 [==============================] - 4s 40ms/step - loss: -1434.9183 - acc: 0.0085 - val_loss: -1431.0682 - val_acc: 0.0050\n",
            "Epoch 18/30\n",
            "100/100 [==============================] - 4s 40ms/step - loss: -1423.3999 - acc: 0.0055 - val_loss: -1365.6247 - val_acc: 0.0000e+00\n",
            "Epoch 19/30\n",
            "100/100 [==============================] - 4s 40ms/step - loss: -1442.7061 - acc: 0.0060 - val_loss: -1412.8142 - val_acc: 0.0000e+00\n",
            "Epoch 20/30\n",
            "100/100 [==============================] - 4s 40ms/step - loss: -1387.8165 - acc: 0.0045 - val_loss: -1439.9162 - val_acc: 0.0100\n",
            "Epoch 21/30\n",
            "100/100 [==============================] - 4s 40ms/step - loss: -1413.6990 - acc: 0.0085 - val_loss: -1419.4303 - val_acc: 0.0050\n",
            "Epoch 22/30\n",
            "100/100 [==============================] - 4s 40ms/step - loss: -1443.3357 - acc: 0.0090 - val_loss: -1412.1765 - val_acc: 0.0000e+00\n",
            "Epoch 23/30\n",
            "100/100 [==============================] - 4s 41ms/step - loss: -1423.4238 - acc: 0.0040 - val_loss: -1323.5368 - val_acc: 0.0250\n",
            "Epoch 24/30\n",
            "100/100 [==============================] - 4s 39ms/step - loss: -1407.3140 - acc: 0.0075 - val_loss: -1465.5834 - val_acc: 0.0000e+00\n",
            "Epoch 25/30\n",
            "100/100 [==============================] - 4s 41ms/step - loss: -1404.7075 - acc: 0.0045 - val_loss: -1344.9793 - val_acc: 0.0000e+00\n",
            "Epoch 26/30\n",
            "100/100 [==============================] - 4s 40ms/step - loss: -1435.0139 - acc: 0.0095 - val_loss: -1447.0902 - val_acc: 0.0000e+00\n",
            "Epoch 27/30\n",
            "100/100 [==============================] - 4s 40ms/step - loss: -1393.9782 - acc: 0.0070 - val_loss: -1432.5827 - val_acc: 0.0100\n",
            "Epoch 28/30\n",
            "100/100 [==============================] - 4s 41ms/step - loss: -1427.2899 - acc: 0.0070 - val_loss: -1477.6997 - val_acc: 0.0100\n",
            "Epoch 29/30\n",
            "100/100 [==============================] - 4s 40ms/step - loss: -1376.4257 - acc: 0.0040 - val_loss: -1372.0017 - val_acc: 0.0000e+00\n",
            "Epoch 30/30\n",
            "100/100 [==============================] - 4s 40ms/step - loss: -1396.7124 - acc: 0.0070 - val_loss: -1315.0873 - val_acc: 0.0150\n"
          ],
          "name": "stdout"
        }
      ]
    },
    {
      "cell_type": "code",
      "metadata": {
        "id": "pGzNUwFTLDaO",
        "colab_type": "code",
        "colab": {
          "base_uri": "https://localhost:8080/",
          "height": 545
        },
        "outputId": "2d6448a9-6301-48dd-9868-aad55c90bdfb"
      },
      "source": [
        "model.save('cats_and_dogs_small_1.h5')\n",
        "\n",
        "import matplotlib.pyplot as plt\n",
        "\n",
        "acc = history.history['acc']\n",
        "val_acc = history.history['val_acc']\n",
        "loss = history.history['loss']\n",
        "val_loss = history.history['val_loss']\n",
        "\n",
        "epochs = range(1, len(acc) + 1)\n",
        "\n",
        "plt.plot(epochs, acc, 'bo', label='Training acc')\n",
        "plt.plot(epochs, val_acc, 'b', label='Validation acc')\n",
        "plt.title('Training and validation accuracy')\n",
        "plt.legend()\n",
        "\n",
        "plt.figure()\n",
        "\n",
        "plt.plot(epochs, loss, 'bo', label='Training loss')\n",
        "plt.plot(epochs, val_loss, 'b', label='Validation loss')\n",
        "plt.title('Training and validation loss')\n",
        "plt.legend()\n",
        "\n",
        "plt.show()"
      ],
      "execution_count": 14,
      "outputs": [
        {
          "output_type": "display_data",
          "data": {
            "image/png": "[encoded data removed]",
            "text/plain": [
              "<Figure size 432x288 with 1 Axes>"
            ]
          },
          "metadata": {
            "tags": []
          }
        },
        {
          "output_type": "display_data",
          "data": {
            "image/png": "[encoded data removed]",
            "text/plain": [
              "<Figure size 432x288 with 1 Axes>"
            ]
          },
          "metadata": {
            "tags": []
          }
        }
      ]
    },
    {
      "cell_type": "code",
      "metadata": {
        "id": "NWv4t7NTLvyy",
        "colab_type": "code",
        "colab": {
          "base_uri": "https://localhost:8080/",
          "height": 122
        },
        "outputId": "1e772d28-4b75-4543-e59b-71cdc058ca53"
      },
      "source": [
        "model = models.Sequential()\n",
        "model.add(layers.Conv2D(32, (3, 3), activation='relu',\n",
        "input_shape=(150, 150, 3)))\n",
        "model.add(layers.MaxPooling2D((2, 2)))\n",
        "model.add(layers.Conv2D(64, (3, 3), activation='relu'))\n",
        "model.add(layers.MaxPooling2D((2, 2)))\n",
        "model.add(layers.Conv2D(128, (3, 3), activation='relu'))\n",
        "model.add(layers.MaxPooling2D((2, 2)))\n",
        "model.add(layers.Conv2D(128, (3, 3), activation='relu'))\n",
        "model.add(layers.MaxPooling2D((2, 2)))\n",
        "model.add(layers.Flatten())\n",
        "model.add(layers.Dropout(0.5))\n",
        "model.add(layers.Dense(512, activation='relu'))\n",
        "model.add(layers.Dense(1, activation='sigmoid'))\n",
        "\n",
        "model.compile(loss='binary_crossentropy',\n",
        "              optimizer=optimizers.RMSprop(lr=1e-4),\n",
        "              metrics=['acc'])"
      ],
      "execution_count": 15,
      "outputs": [
        {
          "output_type": "stream",
          "text": [
            "WARNING:tensorflow:From /usr/local/lib/python3.6/dist-packages/keras/backend/tensorflow_backend.py:148: The name tf.placeholder_with_default is deprecated. Please use tf.compat.v1.placeholder_with_default instead.\n",
            "\n",
            "WARNING:tensorflow:From /usr/local/lib/python3.6/dist-packages/keras/backend/tensorflow_backend.py:3733: calling dropout (from tensorflow.python.ops.nn_ops) with keep_prob is deprecated and will be removed in a future version.\n",
            "Instructions for updating:\n",
            "Please use `rate` instead of `keep_prob`. Rate should be set to `rate = 1 - keep_prob`.\n"
          ],
          "name": "stdout"
        }
      ]
    },
    {
      "cell_type": "code",
      "metadata": {
        "id": "qYxCMSc-MAC5",
        "colab_type": "code",
        "colab": {
          "base_uri": "https://localhost:8080/",
          "height": 751
        },
        "outputId": "8915f49e-715f-4e99-8c25-28ed1afb7cab"
      },
      "source": [
        "train_datagen = ImageDataGenerator(rescale=1./255,\n",
        "                                   rotation_range=40,\n",
        "                                   width_shift_range=0.2,\n",
        "                                   height_shift_range=0.2,\n",
        "                                   shear_range=0.2,\n",
        "                                   zoom_range=0.2,\n",
        "                                   horizontal_flip=True,)\n",
        "\n",
        "test_datagen = ImageDataGenerator(rescale=1./255)\n",
        "\n",
        "train_generator = train_datagen.flow_from_directory(train_dir,\n",
        "                                                    target_size=(150, 150),\n",
        "                                                    batch_size=32,\n",
        "                                                    class_mode='binary')\n",
        "\n",
        "validation_generator = test_datagen.flow_from_directory(validation_dir,\n",
        "                                                        target_size=(150, 150),\n",
        "                                                        batch_size=32,\n",
        "                                                        class_mode='binary')\n",
        "\n",
        "history = model.fit_generator(train_generator,\n",
        "                              steps_per_epoch=100,\n",
        "                              epochs=20,\n",
        "                              validation_data=validation_generator,\n",
        "                              validation_steps=50)"
      ],
      "execution_count": 16,
      "outputs": [
        {
          "output_type": "stream",
          "text": [
            "Found 24497 images belonging to 180 classes.\n",
            "Found 900 images belonging to 180 classes.\n",
            "Epoch 1/20\n",
            "100/100 [==============================] - 24s 244ms/step - loss: -1369.0953 - acc: 0.0053 - val_loss: -1412.9496 - val_acc: 0.0064\n",
            "Epoch 2/20\n",
            "100/100 [==============================] - 22s 222ms/step - loss: -1427.1125 - acc: 0.0094 - val_loss: -1419.2233 - val_acc: 0.0045\n",
            "Epoch 3/20\n",
            "100/100 [==============================] - 22s 219ms/step - loss: -1404.2352 - acc: 0.0081 - val_loss: -1396.3629 - val_acc: 0.0052\n",
            "Epoch 4/20\n",
            "100/100 [==============================] - 22s 222ms/step - loss: -1420.1377 - acc: 0.0078 - val_loss: -1417.7364 - val_acc: 0.0057\n",
            "Epoch 5/20\n",
            "100/100 [==============================] - 23s 226ms/step - loss: -1376.9687 - acc: 0.0050 - val_loss: -1413.7199 - val_acc: 0.0058\n",
            "Epoch 6/20\n",
            "100/100 [==============================] - 22s 216ms/step - loss: -1424.5318 - acc: 0.0062 - val_loss: -1402.6408 - val_acc: 0.0058\n",
            "Epoch 7/20\n",
            "100/100 [==============================] - 21s 213ms/step - loss: -1441.1675 - acc: 0.0053 - val_loss: -1412.1401 - val_acc: 0.0052\n",
            "Epoch 8/20\n",
            "100/100 [==============================] - 22s 216ms/step - loss: -1428.6270 - acc: 0.0069 - val_loss: -1418.1522 - val_acc: 0.0064\n",
            "Epoch 9/20\n",
            "100/100 [==============================] - 22s 217ms/step - loss: -1425.7125 - acc: 0.0069 - val_loss: -1404.6439 - val_acc: 0.0052\n",
            "Epoch 10/20\n",
            "100/100 [==============================] - 21s 212ms/step - loss: -1418.8374 - acc: 0.0072 - val_loss: -1420.5346 - val_acc: 0.0071\n",
            "Epoch 11/20\n",
            "100/100 [==============================] - 22s 216ms/step - loss: -1433.2104 - acc: 0.0066 - val_loss: -1402.0577 - val_acc: 0.0038\n",
            "Epoch 12/20\n",
            "100/100 [==============================] - 23s 225ms/step - loss: -1432.6624 - acc: 0.0056 - val_loss: -1394.0604 - val_acc: 0.0058\n",
            "Epoch 13/20\n",
            "100/100 [==============================] - 21s 209ms/step - loss: -1408.7090 - acc: 0.0056 - val_loss: -1419.4505 - val_acc: 0.0045\n",
            "Epoch 14/20\n",
            "100/100 [==============================] - 21s 211ms/step - loss: -1412.7769 - acc: 0.0069 - val_loss: -1425.9761 - val_acc: 0.0065\n",
            "Epoch 15/20\n",
            "100/100 [==============================] - 21s 211ms/step - loss: -1408.6359 - acc: 0.0068 - val_loss: -1403.0718 - val_acc: 0.0051\n",
            "Epoch 16/20\n",
            "100/100 [==============================] - 22s 215ms/step - loss: -1418.5584 - acc: 0.0088 - val_loss: -1410.2505 - val_acc: 0.0045\n",
            "Epoch 17/20\n",
            "100/100 [==============================] - 21s 208ms/step - loss: -1431.8952 - acc: 0.0075 - val_loss: -1418.0772 - val_acc: 0.0065\n",
            "Epoch 18/20\n",
            "100/100 [==============================] - 21s 206ms/step - loss: -1406.1532 - acc: 0.0069 - val_loss: -1404.8297 - val_acc: 0.0058\n",
            "Epoch 19/20\n",
            "100/100 [==============================] - 21s 209ms/step - loss: -1427.7701 - acc: 0.0059 - val_loss: -1399.8773 - val_acc: 0.0057\n",
            "Epoch 20/20\n",
            "100/100 [==============================] - 21s 209ms/step - loss: -1422.2750 - acc: 0.0056 - val_loss: -1416.6007 - val_acc: 0.0071\n"
          ],
          "name": "stdout"
        }
      ]
    }
  ]
}