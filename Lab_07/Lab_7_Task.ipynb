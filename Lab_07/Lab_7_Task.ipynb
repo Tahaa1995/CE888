{
  "nbformat": 4,
  "nbformat_minor": 0,
  "metadata": {
    "colab": {
      "name": "Copy of Lab_7_Task.ipynb",
      "provenance": [],
      "authorship_tag": "ABX9TyN3kT1Ybh8UDYubLmcRK1CJ",
      "include_colab_link": true
    },
    "kernelspec": {
      "name": "python3",
      "display_name": "Python 3"
    },
    "accelerator": "GPU"
  },
  "cells": [
    {
      "cell_type": "markdown",
      "metadata": {
        "id": "view-in-github",
        "colab_type": "text"
      },
      "source": [
        "<a href=\"https://colab.research.google.com/github/Tahaa1995/CE888/blob/master/Lab_07/Lab_7_Task.ipynb\" target=\"_parent\"><img src=\"https://colab.research.google.com/assets/colab-badge.svg\" alt=\"Open In Colab\"/></a>"
      ]
    },
    {
      "cell_type": "code",
      "metadata": {
        "id": "pkq3YmhlTfWz",
        "colab_type": "code",
        "outputId": "63e71330-a471-4067-c2cd-756ab2f6f322",
        "colab": {
          "base_uri": "https://localhost:8080/",
          "height": 67
        }
      },
      "source": [
        "import os\n",
        "os.environ['KAGGLE_USERNAME'] = \"tahaairshad\" # username from the json file\n",
        "os.environ['KAGGLE_KEY'] = \"b1b07e579423c1e6ecbb63a5d21d5fc9\" # key from the json file\n",
        "!kaggle datasets download -d gpiosenka/100-bird-species # api copied from kaggle"
      ],
      "execution_count": 1,
      "outputs": [
        {
          "output_type": "stream",
          "text": [
            "Downloading 100-bird-species.zip to /content\n",
            " 99% 2.24G/2.26G [00:41<00:00, 50.2MB/s]\n",
            "100% 2.26G/2.26G [00:41<00:00, 58.9MB/s]\n"
          ],
          "name": "stdout"
        }
      ]
    },
    {
      "cell_type": "code",
      "metadata": {
        "id": "zfegceqflFWe",
        "colab_type": "code",
        "outputId": "46af635a-d15a-4510-bdf5-ed71544a0b41",
        "colab": {
          "base_uri": "https://localhost:8080/",
          "height": 34
        }
      },
      "source": [
        "from zipfile import ZipFile\n",
        "\n",
        "file_name = \"/content/100-bird-species.zip\"\n",
        "\n",
        "with ZipFile(file_name, 'r') as zip:\n",
        "  zip.extractall()\n",
        "  print('done')"
      ],
      "execution_count": 2,
      "outputs": [
        {
          "output_type": "stream",
          "text": [
            "done\n"
          ],
          "name": "stdout"
        }
      ]
    },
    {
      "cell_type": "code",
      "metadata": {
        "id": "uGmStTmuHKjB",
        "colab_type": "code",
        "outputId": "7a122d32-31f6-4546-b47f-c3e3a56666a5",
        "colab": {
          "base_uri": "https://localhost:8080/",
          "height": 34
        }
      },
      "source": [
        "%tensorflow_version 1.x"
      ],
      "execution_count": 3,
      "outputs": [
        {
          "output_type": "stream",
          "text": [
            "TensorFlow 1.x selected.\n"
          ],
          "name": "stdout"
        }
      ]
    },
    {
      "cell_type": "code",
      "metadata": {
        "id": "-rQ_XMmBJxbX",
        "colab_type": "code",
        "outputId": "5d9e5151-7344-427b-9fc9-5f5325a4d2ea",
        "colab": {
          "base_uri": "https://localhost:8080/",
          "height": 692
        }
      },
      "source": [
        "from keras import layers\n",
        "from keras import models\n",
        "\n",
        "model = models.Sequential()\n",
        "model.add(layers.Conv2D(32, (3, 3), activation='relu', input_shape=(150, 150, 3)))\n",
        "model.add(layers.MaxPooling2D((2, 2)))\n",
        "model.add(layers.Conv2D(64, (3, 3), activation='relu'))\n",
        "model.add(layers.MaxPooling2D((2, 2)))\n",
        "model.add(layers.Conv2D(128, (3, 3), activation='relu'))\n",
        "model.add(layers.MaxPooling2D((2, 2)))\n",
        "model.add(layers.Conv2D(128, (3, 3), activation='relu'))\n",
        "model.add(layers.MaxPooling2D((2, 2)))\n",
        "model.add(layers.Flatten())\n",
        "model.add(layers.Dense(512, activation='relu'))\n",
        "model.add(layers.Dense(1, activation='sigmoid'))\n",
        "model.summary()"
      ],
      "execution_count": 4,
      "outputs": [
        {
          "output_type": "stream",
          "text": [
            "Using TensorFlow backend.\n"
          ],
          "name": "stderr"
        },
        {
          "output_type": "stream",
          "text": [
            "WARNING:tensorflow:From /usr/local/lib/python3.6/dist-packages/keras/backend/tensorflow_backend.py:66: The name tf.get_default_graph is deprecated. Please use tf.compat.v1.get_default_graph instead.\n",
            "\n",
            "WARNING:tensorflow:From /usr/local/lib/python3.6/dist-packages/keras/backend/tensorflow_backend.py:541: The name tf.placeholder is deprecated. Please use tf.compat.v1.placeholder instead.\n",
            "\n",
            "WARNING:tensorflow:From /usr/local/lib/python3.6/dist-packages/keras/backend/tensorflow_backend.py:4432: The name tf.random_uniform is deprecated. Please use tf.random.uniform instead.\n",
            "\n",
            "WARNING:tensorflow:From /usr/local/lib/python3.6/dist-packages/keras/backend/tensorflow_backend.py:4267: The name tf.nn.max_pool is deprecated. Please use tf.nn.max_pool2d instead.\n",
            "\n",
            "Model: \"sequential_1\"\n",
            "_________________________________________________________________\n",
            "Layer (type)                 Output Shape              Param #   \n",
            "=================================================================\n",
            "conv2d_1 (Conv2D)            (None, 148, 148, 32)      896       \n",
            "_________________________________________________________________\n",
            "max_pooling2d_1 (MaxPooling2 (None, 74, 74, 32)        0         \n",
            "_________________________________________________________________\n",
            "conv2d_2 (Conv2D)            (None, 72, 72, 64)        18496     \n",
            "_________________________________________________________________\n",
            "max_pooling2d_2 (MaxPooling2 (None, 36, 36, 64)        0         \n",
            "_________________________________________________________________\n",
            "conv2d_3 (Conv2D)            (None, 34, 34, 128)       73856     \n",
            "_________________________________________________________________\n",
            "max_pooling2d_3 (MaxPooling2 (None, 17, 17, 128)       0         \n",
            "_________________________________________________________________\n",
            "conv2d_4 (Conv2D)            (None, 15, 15, 128)       147584    \n",
            "_________________________________________________________________\n",
            "max_pooling2d_4 (MaxPooling2 (None, 7, 7, 128)         0         \n",
            "_________________________________________________________________\n",
            "flatten_1 (Flatten)          (None, 6272)              0         \n",
            "_________________________________________________________________\n",
            "dense_1 (Dense)              (None, 512)               3211776   \n",
            "_________________________________________________________________\n",
            "dense_2 (Dense)              (None, 1)                 513       \n",
            "=================================================================\n",
            "Total params: 3,453,121\n",
            "Trainable params: 3,453,121\n",
            "Non-trainable params: 0\n",
            "_________________________________________________________________\n"
          ],
          "name": "stdout"
        }
      ]
    },
    {
      "cell_type": "code",
      "metadata": {
        "id": "jTUmG9_kJ4WX",
        "colab_type": "code",
        "outputId": "42f712ac-2333-4753-b0a2-9d022aa1f1f4",
        "colab": {
          "base_uri": "https://localhost:8080/",
          "height": 154
        }
      },
      "source": [
        "from keras import optimizers\n",
        "model.compile(loss='binary_crossentropy', \n",
        "              optimizer=optimizers.RMSprop(lr=1e-4),\n",
        "              metrics=['acc'])"
      ],
      "execution_count": 5,
      "outputs": [
        {
          "output_type": "stream",
          "text": [
            "WARNING:tensorflow:From /usr/local/lib/python3.6/dist-packages/keras/optimizers.py:793: The name tf.train.Optimizer is deprecated. Please use tf.compat.v1.train.Optimizer instead.\n",
            "\n",
            "WARNING:tensorflow:From /usr/local/lib/python3.6/dist-packages/keras/backend/tensorflow_backend.py:3657: The name tf.log is deprecated. Please use tf.math.log instead.\n",
            "\n",
            "WARNING:tensorflow:From /tensorflow-1.15.2/python3.6/tensorflow_core/python/ops/nn_impl.py:183: where (from tensorflow.python.ops.array_ops) is deprecated and will be removed in a future version.\n",
            "Instructions for updating:\n",
            "Use tf.where in 2.0, which has the same broadcast rule as np.where\n"
          ],
          "name": "stdout"
        }
      ]
    },
    {
      "cell_type": "code",
      "metadata": {
        "id": "zmDMqYWPHdjt",
        "colab_type": "code",
        "colab": {}
      },
      "source": [
        "base_dir='/content/180'"
      ],
      "execution_count": 0,
      "outputs": []
    },
    {
      "cell_type": "code",
      "metadata": {
        "id": "e3tq7_QRKeSr",
        "colab_type": "code",
        "colab": {}
      },
      "source": [
        "train_dir = os.path.join(base_dir, 'train')\n",
        "\n",
        "validation_dir = os.path.join(base_dir, 'valid')\n",
        "\n",
        "test_dir = os.path.join(base_dir, 'test')"
      ],
      "execution_count": 0,
      "outputs": []
    },
    {
      "cell_type": "code",
      "metadata": {
        "id": "DKXsLv1LKAoT",
        "colab_type": "code",
        "outputId": "2800204c-eae0-419c-883e-f5b316758d48",
        "colab": {
          "base_uri": "https://localhost:8080/",
          "height": 50
        }
      },
      "source": [
        "from keras.preprocessing.image import ImageDataGenerator\n",
        "\n",
        "train_datagen = ImageDataGenerator(rescale=1./255)\n",
        "test_datagen = ImageDataGenerator(rescale=1./255)\n",
        "\n",
        "train_generator = train_datagen.flow_from_directory(train_dir,\n",
        "                                                    target_size=(150, 150), \n",
        "                                                    batch_size=20,\n",
        "                                                    class_mode='binary')\n",
        "\n",
        "validation_generator = test_datagen.flow_from_directory(validation_dir,\n",
        "                                                        target_size=(150, 150),\n",
        "                                                        batch_size=20,\n",
        "                                                        class_mode='binary')"
      ],
      "execution_count": 8,
      "outputs": [
        {
          "output_type": "stream",
          "text": [
            "Found 24497 images belonging to 180 classes.\n",
            "Found 900 images belonging to 180 classes.\n"
          ],
          "name": "stdout"
        }
      ]
    },
    {
      "cell_type": "code",
      "metadata": {
        "id": "hPTJ2z1IKJ3a",
        "colab_type": "code",
        "outputId": "cebafbe6-0d5b-4e0d-d560-b3de89e94afd",
        "colab": {
          "base_uri": "https://localhost:8080/",
          "height": 1000
        }
      },
      "source": [
        "history = model.fit_generator(train_generator,\n",
        "                              steps_per_epoch=100,\n",
        "                              epochs=30,\n",
        "                              validation_data=validation_generator,\n",
        "                              validation_steps=10)"
      ],
      "execution_count": 9,
      "outputs": [
        {
          "output_type": "stream",
          "text": [
            "WARNING:tensorflow:From /usr/local/lib/python3.6/dist-packages/keras/backend/tensorflow_backend.py:1033: The name tf.assign_add is deprecated. Please use tf.compat.v1.assign_add instead.\n",
            "\n",
            "WARNING:tensorflow:From /usr/local/lib/python3.6/dist-packages/keras/backend/tensorflow_backend.py:1020: The name tf.assign is deprecated. Please use tf.compat.v1.assign instead.\n",
            "\n",
            "WARNING:tensorflow:From /usr/local/lib/python3.6/dist-packages/keras/backend/tensorflow_backend.py:3005: The name tf.Session is deprecated. Please use tf.compat.v1.Session instead.\n",
            "\n",
            "Epoch 1/30\n",
            "WARNING:tensorflow:From /usr/local/lib/python3.6/dist-packages/keras/backend/tensorflow_backend.py:190: The name tf.get_default_session is deprecated. Please use tf.compat.v1.get_default_session instead.\n",
            "\n",
            "WARNING:tensorflow:From /usr/local/lib/python3.6/dist-packages/keras/backend/tensorflow_backend.py:197: The name tf.ConfigProto is deprecated. Please use tf.compat.v1.ConfigProto instead.\n",
            "\n",
            "WARNING:tensorflow:From /usr/local/lib/python3.6/dist-packages/keras/backend/tensorflow_backend.py:207: The name tf.global_variables is deprecated. Please use tf.compat.v1.global_variables instead.\n",
            "\n",
            "WARNING:tensorflow:From /usr/local/lib/python3.6/dist-packages/keras/backend/tensorflow_backend.py:216: The name tf.is_variable_initialized is deprecated. Please use tf.compat.v1.is_variable_initialized instead.\n",
            "\n",
            "WARNING:tensorflow:From /usr/local/lib/python3.6/dist-packages/keras/backend/tensorflow_backend.py:223: The name tf.variables_initializer is deprecated. Please use tf.compat.v1.variables_initializer instead.\n",
            "\n",
            "100/100 [==============================] - 17s 175ms/step - loss: -1345.9213 - acc: 0.0060 - val_loss: -1334.6965 - val_acc: 0.0000e+00\n",
            "Epoch 2/30\n",
            "100/100 [==============================] - 5s 48ms/step - loss: -1410.3511 - acc: 0.0065 - val_loss: -1401.0965 - val_acc: 0.0100\n",
            "Epoch 3/30\n",
            "100/100 [==============================] - 5s 49ms/step - loss: -1420.4107 - acc: 0.0080 - val_loss: -1490.3739 - val_acc: 0.0100\n",
            "Epoch 4/30\n",
            "100/100 [==============================] - 5s 49ms/step - loss: -1424.2289 - acc: 0.0075 - val_loss: -1400.5385 - val_acc: 0.0050\n",
            "Epoch 5/30\n",
            "100/100 [==============================] - 5s 50ms/step - loss: -1425.3768 - acc: 0.0045 - val_loss: -1415.0461 - val_acc: 0.0050\n",
            "Epoch 6/30\n",
            "100/100 [==============================] - 5s 47ms/step - loss: -1432.2639 - acc: 0.0050 - val_loss: -1411.7779 - val_acc: 0.0000e+00\n",
            "Epoch 7/30\n",
            "100/100 [==============================] - 5s 49ms/step - loss: -1435.7313 - acc: 0.0075 - val_loss: -1486.3086 - val_acc: 0.0050\n",
            "Epoch 8/30\n",
            "100/100 [==============================] - 5s 48ms/step - loss: -1448.8360 - acc: 0.0065 - val_loss: -1367.3784 - val_acc: 0.0100\n",
            "Epoch 9/30\n",
            "100/100 [==============================] - 5s 48ms/step - loss: -1404.0379 - acc: 0.0100 - val_loss: -1390.8934 - val_acc: 0.0050\n",
            "Epoch 10/30\n",
            "100/100 [==============================] - 5s 49ms/step - loss: -1401.8936 - acc: 0.0040 - val_loss: -1428.2783 - val_acc: 0.0050\n",
            "Epoch 11/30\n",
            "100/100 [==============================] - 5s 52ms/step - loss: -1430.2307 - acc: 0.0065 - val_loss: -1456.7354 - val_acc: 0.0000e+00\n",
            "Epoch 12/30\n",
            "100/100 [==============================] - 5s 46ms/step - loss: -1408.9641 - acc: 0.0095 - val_loss: -1313.4931 - val_acc: 0.0100\n",
            "Epoch 13/30\n",
            "100/100 [==============================] - 5s 49ms/step - loss: -1414.3606 - acc: 0.0055 - val_loss: -1438.2422 - val_acc: 0.0050\n",
            "Epoch 14/30\n",
            "100/100 [==============================] - 5s 50ms/step - loss: -1424.9702 - acc: 0.0065 - val_loss: -1413.2127 - val_acc: 0.0100\n",
            "Epoch 15/30\n",
            "100/100 [==============================] - 5s 46ms/step - loss: -1412.0410 - acc: 0.0060 - val_loss: -1341.0734 - val_acc: 0.0000e+00\n",
            "Epoch 16/30\n",
            "100/100 [==============================] - 5s 48ms/step - loss: -1445.1055 - acc: 0.0095 - val_loss: -1417.1186 - val_acc: 0.0150\n",
            "Epoch 17/30\n",
            "100/100 [==============================] - 5s 48ms/step - loss: -1416.7838 - acc: 0.0060 - val_loss: -1363.7116 - val_acc: 0.0000e+00\n",
            "Epoch 18/30\n",
            "100/100 [==============================] - 5s 48ms/step - loss: -1431.5305 - acc: 0.0050 - val_loss: -1526.2442 - val_acc: 0.0050\n",
            "Epoch 19/30\n",
            "100/100 [==============================] - 5s 48ms/step - loss: -1415.6519 - acc: 0.0065 - val_loss: -1353.9868 - val_acc: 0.0000e+00\n",
            "Epoch 20/30\n",
            "100/100 [==============================] - 5s 48ms/step - loss: -1410.9967 - acc: 0.0050 - val_loss: -1472.6778 - val_acc: 0.0100\n",
            "Epoch 21/30\n",
            "100/100 [==============================] - 5s 48ms/step - loss: -1395.5034 - acc: 0.0060 - val_loss: -1458.0108 - val_acc: 0.0100\n",
            "Epoch 22/30\n",
            "100/100 [==============================] - 5s 49ms/step - loss: -1436.9988 - acc: 0.0070 - val_loss: -1436.9669 - val_acc: 0.0000e+00\n",
            "Epoch 23/30\n",
            "100/100 [==============================] - 5s 49ms/step - loss: -1426.0304 - acc: 0.0085 - val_loss: -1356.6969 - val_acc: 0.0050\n",
            "Epoch 24/30\n",
            "100/100 [==============================] - 5s 47ms/step - loss: -1422.0289 - acc: 0.0080 - val_loss: -1431.8653 - val_acc: 0.0100\n",
            "Epoch 25/30\n",
            "100/100 [==============================] - 5s 48ms/step - loss: -1366.3421 - acc: 0.0055 - val_loss: -1331.0297 - val_acc: 0.0000e+00\n",
            "Epoch 26/30\n",
            "100/100 [==============================] - 5s 48ms/step - loss: -1414.7033 - acc: 0.0080 - val_loss: -1446.7714 - val_acc: 0.0000e+00\n",
            "Epoch 27/30\n",
            "100/100 [==============================] - 5s 49ms/step - loss: -1416.9990 - acc: 0.0100 - val_loss: -1410.1040 - val_acc: 0.0150\n",
            "Epoch 28/30\n",
            "100/100 [==============================] - 5s 48ms/step - loss: -1451.0041 - acc: 0.0070 - val_loss: -1392.5673 - val_acc: 0.0050\n",
            "Epoch 29/30\n",
            "100/100 [==============================] - 5s 47ms/step - loss: -1433.6668 - acc: 0.0085 - val_loss: -1522.4978 - val_acc: 0.0000e+00\n",
            "Epoch 30/30\n",
            "100/100 [==============================] - 5s 47ms/step - loss: -1387.4817 - acc: 0.0070 - val_loss: -1376.6250 - val_acc: 0.0000e+00\n"
          ],
          "name": "stdout"
        }
      ]
    },
    {
      "cell_type": "code",
      "metadata": {
        "id": "pGzNUwFTLDaO",
        "colab_type": "code",
        "outputId": "183f1ab8-5528-4b96-f90e-a12f276f6723",
        "colab": {
          "base_uri": "https://localhost:8080/",
          "height": 545
        }
      },
      "source": [
        "model.save('cats_and_dogs_small_1.h5')\n",
        "\n",
        "import matplotlib.pyplot as plt\n",
        "\n",
        "acc = history.history['acc']\n",
        "val_acc = history.history['val_acc']\n",
        "loss = history.history['loss']\n",
        "val_loss = history.history['val_loss']\n",
        "\n",
        "epochs = range(1, len(acc) + 1)\n",
        "\n",
        "plt.plot(epochs, acc, 'bo', label='Training acc')\n",
        "plt.plot(epochs, val_acc, 'b', label='Validation acc')\n",
        "plt.title('Training and validation accuracy')\n",
        "plt.legend()\n",
        "\n",
        "plt.figure()\n",
        "\n",
        "plt.plot(epochs, loss, 'bo', label='Training loss')\n",
        "plt.plot(epochs, val_loss, 'b', label='Validation loss')\n",
        "plt.title('Training and validation loss')\n",
        "plt.legend()\n",
        "\n",
        "plt.show()"
      ],
      "execution_count": 10,
      "outputs": [
        {
          "output_type": "display_data",
          "data": {
            "image/png": "[encoded data removed]",
            "text/plain": [
              "<Figure size 432x288 with 1 Axes>"
            ]
          },
          "metadata": {
            "tags": []
          }
        },
        {
          "output_type": "display_data",
          "data": {
            "image/png": "[encoded data removed]",
            "text/plain": [
              "<Figure size 432x288 with 1 Axes>"
            ]
          },
          "metadata": {
            "tags": []
          }
        }
      ]
    },
    {
      "cell_type": "code",
      "metadata": {
        "id": "NWv4t7NTLvyy",
        "colab_type": "code",
        "outputId": "6499adc0-4dd9-4884-c9be-23457f76cf7d",
        "colab": {
          "base_uri": "https://localhost:8080/",
          "height": 121
        }
      },
      "source": [
        "model = models.Sequential()\n",
        "model.add(layers.Conv2D(32, (3, 3), activation='relu',\n",
        "input_shape=(150, 150, 3)))\n",
        "model.add(layers.MaxPooling2D((2, 2)))\n",
        "model.add(layers.Conv2D(64, (3, 3), activation='relu'))\n",
        "model.add(layers.MaxPooling2D((2, 2)))\n",
        "model.add(layers.Conv2D(128, (3, 3), activation='relu'))\n",
        "model.add(layers.MaxPooling2D((2, 2)))\n",
        "model.add(layers.Conv2D(128, (3, 3), activation='relu'))\n",
        "model.add(layers.MaxPooling2D((2, 2)))\n",
        "model.add(layers.Flatten())\n",
        "model.add(layers.Dropout(0.5))\n",
        "model.add(layers.Dense(512, activation='relu'))\n",
        "model.add(layers.Dense(1, activation='sigmoid'))\n",
        "\n",
        "model.compile(loss='binary_crossentropy',\n",
        "              optimizer=optimizers.RMSprop(lr=1e-4),\n",
        "              metrics=['acc'])"
      ],
      "execution_count": 11,
      "outputs": [
        {
          "output_type": "stream",
          "text": [
            "WARNING:tensorflow:From /usr/local/lib/python3.6/dist-packages/keras/backend/tensorflow_backend.py:148: The name tf.placeholder_with_default is deprecated. Please use tf.compat.v1.placeholder_with_default instead.\n",
            "\n",
            "WARNING:tensorflow:From /usr/local/lib/python3.6/dist-packages/keras/backend/tensorflow_backend.py:3733: calling dropout (from tensorflow.python.ops.nn_ops) with keep_prob is deprecated and will be removed in a future version.\n",
            "Instructions for updating:\n",
            "Please use `rate` instead of `keep_prob`. Rate should be set to `rate = 1 - keep_prob`.\n"
          ],
          "name": "stdout"
        }
      ]
    },
    {
      "cell_type": "code",
      "metadata": {
        "id": "qYxCMSc-MAC5",
        "colab_type": "code",
        "outputId": "a0ca2ed7-18db-464a-835d-7eafe58c1c41",
        "colab": {
          "base_uri": "https://localhost:8080/",
          "height": 722
        }
      },
      "source": [
        "train_datagen = ImageDataGenerator(rescale=1./255,\n",
        "                                   rotation_range=40,\n",
        "                                   width_shift_range=0.2,\n",
        "                                   height_shift_range=0.2,\n",
        "                                   shear_range=0.2,\n",
        "                                   zoom_range=0.2,\n",
        "                                   horizontal_flip=True,)\n",
        "\n",
        "test_datagen = ImageDataGenerator(rescale=1./255)\n",
        "\n",
        "train_generator = train_datagen.flow_from_directory(train_dir,\n",
        "                                                    target_size=(150, 150),\n",
        "                                                    batch_size=32,\n",
        "                                                    class_mode='binary')\n",
        "\n",
        "validation_generator = test_datagen.flow_from_directory(validation_dir,\n",
        "                                                        target_size=(150, 150),\n",
        "                                                        batch_size=32,\n",
        "                                                        class_mode='binary')\n",
        "\n",
        "history = model.fit_generator(train_generator,\n",
        "                              steps_per_epoch=100,\n",
        "                              epochs=20,\n",
        "                              validation_data=validation_generator,\n",
        "                              validation_steps=50)"
      ],
      "execution_count": 12,
      "outputs": [
        {
          "output_type": "stream",
          "text": [
            "Found 24497 images belonging to 180 classes.\n",
            "Found 900 images belonging to 180 classes.\n",
            "Epoch 1/20\n",
            "100/100 [==============================] - 27s 266ms/step - loss: -1344.6904 - acc: 0.0056 - val_loss: -1395.2731 - val_acc: 0.0057\n",
            "Epoch 2/20\n",
            "100/100 [==============================] - 25s 245ms/step - loss: -1422.3864 - acc: 0.0091 - val_loss: -1426.4718 - val_acc: 0.0045\n",
            "Epoch 3/20\n",
            "100/100 [==============================] - 24s 238ms/step - loss: -1436.9968 - acc: 0.0069 - val_loss: -1401.8147 - val_acc: 0.0058\n",
            "Epoch 4/20\n",
            "100/100 [==============================] - 25s 247ms/step - loss: -1394.9736 - acc: 0.0062 - val_loss: -1423.9734 - val_acc: 0.0064\n",
            "Epoch 5/20\n",
            "100/100 [==============================] - 25s 246ms/step - loss: -1411.3644 - acc: 0.0066 - val_loss: -1396.6004 - val_acc: 0.0052\n",
            "Epoch 6/20\n",
            "100/100 [==============================] - 25s 246ms/step - loss: -1446.9911 - acc: 0.0062 - val_loss: -1422.8785 - val_acc: 0.0058\n",
            "Epoch 7/20\n",
            "100/100 [==============================] - 24s 241ms/step - loss: -1420.0679 - acc: 0.0069 - val_loss: -1414.3910 - val_acc: 0.0052\n",
            "Epoch 8/20\n",
            "100/100 [==============================] - 25s 251ms/step - loss: -1418.5036 - acc: 0.0062 - val_loss: -1410.8808 - val_acc: 0.0057\n",
            "Epoch 9/20\n",
            "100/100 [==============================] - 25s 247ms/step - loss: -1412.9138 - acc: 0.0072 - val_loss: -1398.8204 - val_acc: 0.0065\n",
            "Epoch 10/20\n",
            "100/100 [==============================] - 24s 244ms/step - loss: -1427.6007 - acc: 0.0088 - val_loss: -1417.7778 - val_acc: 0.0045\n",
            "Epoch 11/20\n",
            "100/100 [==============================] - 24s 245ms/step - loss: -1413.2825 - acc: 0.0062 - val_loss: -1411.2154 - val_acc: 0.0057\n",
            "Epoch 12/20\n",
            "100/100 [==============================] - 26s 257ms/step - loss: -1430.9287 - acc: 0.0066 - val_loss: -1403.4874 - val_acc: 0.0058\n",
            "Epoch 13/20\n",
            "100/100 [==============================] - 24s 243ms/step - loss: -1415.0579 - acc: 0.0069 - val_loss: -1431.7067 - val_acc: 0.0058\n",
            "Epoch 14/20\n",
            "100/100 [==============================] - 25s 250ms/step - loss: -1407.2194 - acc: 0.0069 - val_loss: -1399.1508 - val_acc: 0.0052\n",
            "Epoch 15/20\n",
            "100/100 [==============================] - 24s 243ms/step - loss: -1414.3735 - acc: 0.0066 - val_loss: -1413.5480 - val_acc: 0.0057\n",
            "Epoch 16/20\n",
            "100/100 [==============================] - 25s 253ms/step - loss: -1417.5172 - acc: 0.0034 - val_loss: -1420.8134 - val_acc: 0.0065\n",
            "Epoch 17/20\n",
            "100/100 [==============================] - 24s 240ms/step - loss: -1410.2782 - acc: 0.0065 - val_loss: -1388.7738 - val_acc: 0.0045\n",
            "Epoch 18/20\n",
            "100/100 [==============================] - 24s 243ms/step - loss: -1424.4770 - acc: 0.0078 - val_loss: -1419.7603 - val_acc: 0.0052\n",
            "Epoch 19/20\n",
            "100/100 [==============================] - 25s 247ms/step - loss: -1421.0145 - acc: 0.0084 - val_loss: -1409.7348 - val_acc: 0.0057\n",
            "Epoch 20/20\n",
            "100/100 [==============================] - 25s 248ms/step - loss: -1431.2475 - acc: 0.0066 - val_loss: -1424.0453 - val_acc: 0.0052\n"
          ],
          "name": "stdout"
        }
      ]
    }
  ]
}