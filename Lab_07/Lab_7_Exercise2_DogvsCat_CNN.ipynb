{
  "nbformat": 4,
  "nbformat_minor": 0,
  "metadata": {
    "colab": {
      "name": "Lab_7_Exercise2_DogvsCat_CNN.ipynb",
      "provenance": [],
      "include_colab_link": true
    },
    "kernelspec": {
      "name": "python3",
      "display_name": "Python 3"
    },
    "accelerator": "GPU"
  },
  "cells": [
    {
      "cell_type": "markdown",
      "metadata": {
        "id": "view-in-github",
        "colab_type": "text"
      },
      "source": [
        "<a href=\"https://colab.research.google.com/github/Tahaa1995/CE888/blob/master/Lab_07/Lab_7_Exercise2_DogvsCat_CNN.ipynb\" target=\"_parent\"><img src=\"https://colab.research.google.com/assets/colab-badge.svg\" alt=\"Open In Colab\"/></a>"
      ]
    },
    {
      "cell_type": "markdown",
      "metadata": {
        "id": "qTh9DiKVslsJ",
        "colab_type": "text"
      },
      "source": [
        "## Dogs vs. Cats \n",
        "\n",
        "In this competition, you'll write an algorithm to classify whether images contain either a dog or a cat.  This is easy for humans, dogs, and cats. Your computer will find it a bit more difficult.\n",
        "\n",
        "![alt text](https://miro.medium.com/max/3000/1*bhFifratH9DjKqMBTeQG5A.gif)\n",
        "\n",
        "Ref: https://medium.com/@thegrigorian/rolling-in-the-deep-cnn-c8d3f7108c8c"
      ]
    },
    {
      "cell_type": "code",
      "metadata": {
        "id": "YmXSOc0tZIGA",
        "colab_type": "code",
        "outputId": "a8f7fd94-f832-47fe-bf11-28526c9511c8",
        "colab": {
          "base_uri": "https://localhost:8080/",
          "height": 187
        }
      },
      "source": [
        "import os\n",
        "os.environ['KAGGLE_USERNAME'] = \"tahaairshad\" # username from the json file\n",
        "os.environ['KAGGLE_KEY'] = \"b1b07e579423c1e6ecbb63a5d21d5fc9\" # key from the json file\n",
        "!kaggle competitions download -c dogs-vs-cats # api copied from kaggle"
      ],
      "execution_count": 1,
      "outputs": [
        {
          "output_type": "stream",
          "text": [
            "Warning: Looks like you're using an outdated API Version, please consider updating (server 1.5.6 / client 1.5.4)\n",
            "Downloading test1.zip to /content\n",
            " 98% 265M/271M [00:02<00:00, 115MB/s] \n",
            "100% 271M/271M [00:02<00:00, 111MB/s]\n",
            "Downloading train.zip to /content\n",
            " 97% 529M/543M [00:05<00:00, 121MB/s]\n",
            "100% 543M/543M [00:05<00:00, 102MB/s]\n",
            "Downloading sampleSubmission.csv to /content\n",
            "  0% 0.00/86.8k [00:00<?, ?B/s]\n",
            "100% 86.8k/86.8k [00:00<00:00, 89.4MB/s]\n"
          ],
          "name": "stdout"
        }
      ]
    },
    {
      "cell_type": "code",
      "metadata": {
        "id": "PiwIL8d1n7eS",
        "colab_type": "code",
        "outputId": "31c805a7-ba65-4c86-eeb3-bf12a6f7240a",
        "colab": {
          "base_uri": "https://localhost:8080/",
          "height": 34
        }
      },
      "source": [
        "# Upload data\n",
        "from zipfile import ZipFile\n",
        "\n",
        "file_name = \"/content/train.zip\"\n",
        "\n",
        "with ZipFile(file_name, 'r') as zip:\n",
        "  zip.extractall()\n",
        "  print('done')"
      ],
      "execution_count": 2,
      "outputs": [
        {
          "output_type": "stream",
          "text": [
            "done\n"
          ],
          "name": "stdout"
        }
      ]
    },
    {
      "cell_type": "code",
      "metadata": {
        "id": "sa2Bj5i7pPKV",
        "colab_type": "code",
        "colab": {
          "base_uri": "https://localhost:8080/",
          "height": 34
        },
        "outputId": "cc9d5f0a-749d-450a-b37e-332731d2bd51"
      },
      "source": [
        "data_dir_list = os.listdir('/content/train')\n",
        "#print(data_dir_list)\n",
        "\n",
        "path, dirs, files = next(os.walk(\"/content/train\"))\n",
        "file_count = len(files)\n",
        "print(file_count)"
      ],
      "execution_count": 3,
      "outputs": [
        {
          "output_type": "stream",
          "text": [
            "25000\n"
          ],
          "name": "stdout"
        }
      ]
    },
    {
      "cell_type": "code",
      "metadata": {
        "id": "0ERlHkfHqpK8",
        "colab_type": "code",
        "colab": {}
      },
      "source": [
        "original_dataset_dir = '/content/train'\n",
        "base_dir = '/content/cats_and_dogs_small'\n",
        "os.mkdir(base_dir)"
      ],
      "execution_count": 0,
      "outputs": []
    },
    {
      "cell_type": "code",
      "metadata": {
        "id": "AANB1UJ6rQhM",
        "colab_type": "code",
        "colab": {}
      },
      "source": [
        "train_dir = os.path.join(base_dir, 'train')\n",
        "os.mkdir(train_dir)\n",
        "\n",
        "validation_dir = os.path.join(base_dir, 'validation')\n",
        "os.mkdir(validation_dir)\n",
        "\n",
        "test_dir = os.path.join(base_dir, 'test')\n",
        "os.mkdir(test_dir)\n",
        "\n",
        "train_cats_dir = os.path.join(train_dir, 'cats')\n",
        "os.mkdir(train_cats_dir)\n",
        "\n",
        "train_dogs_dir = os.path.join(train_dir, 'dogs')\n",
        "os.mkdir(train_dogs_dir)\n",
        "\n",
        "validation_cats_dir = os.path.join(validation_dir, 'cats')\n",
        "os.mkdir(validation_cats_dir)\n",
        "\n",
        "validation_dogs_dir = os.path.join(validation_dir, 'dogs')\n",
        "os.mkdir(validation_dogs_dir)\n",
        "\n",
        "test_cats_dir = os.path.join(test_dir, 'cats')\n",
        "os.mkdir(test_cats_dir)\n",
        "\n",
        "test_dogs_dir = os.path.join(test_dir, 'dogs')\n",
        "os.mkdir(test_dogs_dir)"
      ],
      "execution_count": 0,
      "outputs": []
    },
    {
      "cell_type": "code",
      "metadata": {
        "id": "ULRgL9s9rV8T",
        "colab_type": "code",
        "colab": {}
      },
      "source": [
        "import shutil\n",
        "fnames = ['cat.{}.jpg'.format(i) for i in range(1000)]\n",
        "for fname in fnames:\n",
        "    src = os.path.join(original_dataset_dir, fname)\n",
        "    dst = os.path.join(train_cats_dir, fname)\n",
        "    #print(src,dst)\n",
        "    shutil.copyfile(src, dst)\n",
        "    \n",
        "fnames = ['cat.{}.jpg'.format(i) for i in range(1000, 1500)]\n",
        "for fname in fnames:\n",
        "    src = os.path.join(original_dataset_dir, fname)\n",
        "    dst = os.path.join(validation_cats_dir, fname)\n",
        "    shutil.copyfile(src, dst)\n",
        "\n",
        "fnames = ['cat.{}.jpg'.format(i) for i in range(1500, 2000)]\n",
        "for fname in fnames:\n",
        "    src = os.path.join(original_dataset_dir, fname)\n",
        "    dst = os.path.join(test_cats_dir, fname)\n",
        "    shutil.copyfile(src, dst)\n",
        "    \n",
        "fnames = ['dog.{}.jpg'.format(i) for i in range(1000)]\n",
        "for fname in fnames:\n",
        "    src = os.path.join(original_dataset_dir, fname)\n",
        "    dst = os.path.join(train_dogs_dir, fname)\n",
        "    shutil.copyfile(src, dst)\n",
        "\n",
        "fnames = ['dog.{}.jpg'.format(i) for i in range(1000, 1500)]\n",
        "for fname in fnames:\n",
        "    src = os.path.join(original_dataset_dir, fname)\n",
        "    dst = os.path.join(validation_dogs_dir, fname)\n",
        "    shutil.copyfile(src, dst)\n",
        "\n",
        "fnames = ['dog.{}.jpg'.format(i) for i in range(1500, 2000)]\n",
        "for fname in fnames:\n",
        "    src = os.path.join(original_dataset_dir, fname)\n",
        "    dst = os.path.join(test_dogs_dir, fname)\n",
        "    shutil.copyfile(src, dst)"
      ],
      "execution_count": 0,
      "outputs": []
    },
    {
      "cell_type": "code",
      "metadata": {
        "id": "ul3XAbIyr7vC",
        "colab_type": "code",
        "outputId": "0715c129-139f-4ffb-99fd-d30025fb2fc9",
        "colab": {
          "base_uri": "https://localhost:8080/",
          "height": 119
        }
      },
      "source": [
        "print('total training cat images:', len(os.listdir(train_cats_dir)))\n",
        "print('total training dog images:', len(os.listdir(train_dogs_dir)))\n",
        "print('total validation cat images:', len(os.listdir(validation_cats_dir)))\n",
        "\n",
        "print('total validation dog images:', len(os.listdir(validation_dogs_dir)))\n",
        "print('total test cat images:', len(os.listdir(test_cats_dir)))\n",
        "print('total test dog images:', len(os.listdir(test_dogs_dir)))"
      ],
      "execution_count": 7,
      "outputs": [
        {
          "output_type": "stream",
          "text": [
            "total training cat images: 1000\n",
            "total training dog images: 1000\n",
            "total validation cat images: 500\n",
            "total validation dog images: 500\n",
            "total test cat images: 500\n",
            "total test dog images: 500\n"
          ],
          "name": "stdout"
        }
      ]
    },
    {
      "cell_type": "code",
      "metadata": {
        "id": "igh-Qigsup5Z",
        "colab_type": "code",
        "colab": {}
      },
      "source": [
        "#import tensorflow as tf\n",
        "#tf.__version__"
      ],
      "execution_count": 0,
      "outputs": []
    },
    {
      "cell_type": "code",
      "metadata": {
        "id": "jZCX0d1ov9wC",
        "colab_type": "code",
        "colab": {
          "base_uri": "https://localhost:8080/",
          "height": 34
        },
        "outputId": "21b042ab-926b-46cd-d0a2-d80185a5999f"
      },
      "source": [
        "%tensorflow_version 1.x"
      ],
      "execution_count": 9,
      "outputs": [
        {
          "output_type": "stream",
          "text": [
            "TensorFlow 1.x selected.\n"
          ],
          "name": "stdout"
        }
      ]
    },
    {
      "cell_type": "code",
      "metadata": {
        "id": "o9yTA21_r-ma",
        "colab_type": "code",
        "outputId": "d6225269-3ced-4bcb-d59a-4533d5c9bc73",
        "colab": {
          "base_uri": "https://localhost:8080/",
          "height": 700
        }
      },
      "source": [
        "from keras import layers\n",
        "from keras import models\n",
        "\n",
        "model = models.Sequential()\n",
        "model.add(layers.Conv2D(32, (3, 3), activation='relu', input_shape=(150, 150, 3)))\n",
        "model.add(layers.MaxPooling2D((2, 2)))\n",
        "model.add(layers.Conv2D(64, (3, 3), activation='relu'))\n",
        "model.add(layers.MaxPooling2D((2, 2)))\n",
        "model.add(layers.Conv2D(128, (3, 3), activation='relu'))\n",
        "model.add(layers.MaxPooling2D((2, 2)))\n",
        "model.add(layers.Conv2D(128, (3, 3), activation='relu'))\n",
        "model.add(layers.MaxPooling2D((2, 2)))\n",
        "model.add(layers.Flatten())\n",
        "model.add(layers.Dense(512, activation='relu'))\n",
        "model.add(layers.Dense(1, activation='sigmoid'))\n",
        "model.summary()"
      ],
      "execution_count": 10,
      "outputs": [
        {
          "output_type": "stream",
          "text": [
            "Using TensorFlow backend.\n"
          ],
          "name": "stderr"
        },
        {
          "output_type": "stream",
          "text": [
            "WARNING:tensorflow:From /usr/local/lib/python3.6/dist-packages/keras/backend/tensorflow_backend.py:66: The name tf.get_default_graph is deprecated. Please use tf.compat.v1.get_default_graph instead.\n",
            "\n",
            "WARNING:tensorflow:From /usr/local/lib/python3.6/dist-packages/keras/backend/tensorflow_backend.py:541: The name tf.placeholder is deprecated. Please use tf.compat.v1.placeholder instead.\n",
            "\n",
            "WARNING:tensorflow:From /usr/local/lib/python3.6/dist-packages/keras/backend/tensorflow_backend.py:4432: The name tf.random_uniform is deprecated. Please use tf.random.uniform instead.\n",
            "\n",
            "WARNING:tensorflow:From /usr/local/lib/python3.6/dist-packages/keras/backend/tensorflow_backend.py:4267: The name tf.nn.max_pool is deprecated. Please use tf.nn.max_pool2d instead.\n",
            "\n",
            "Model: \"sequential_1\"\n",
            "_________________________________________________________________\n",
            "Layer (type)                 Output Shape              Param #   \n",
            "=================================================================\n",
            "conv2d_1 (Conv2D)            (None, 148, 148, 32)      896       \n",
            "_________________________________________________________________\n",
            "max_pooling2d_1 (MaxPooling2 (None, 74, 74, 32)        0         \n",
            "_________________________________________________________________\n",
            "conv2d_2 (Conv2D)            (None, 72, 72, 64)        18496     \n",
            "_________________________________________________________________\n",
            "max_pooling2d_2 (MaxPooling2 (None, 36, 36, 64)        0         \n",
            "_________________________________________________________________\n",
            "conv2d_3 (Conv2D)            (None, 34, 34, 128)       73856     \n",
            "_________________________________________________________________\n",
            "max_pooling2d_3 (MaxPooling2 (None, 17, 17, 128)       0         \n",
            "_________________________________________________________________\n",
            "conv2d_4 (Conv2D)            (None, 15, 15, 128)       147584    \n",
            "_________________________________________________________________\n",
            "max_pooling2d_4 (MaxPooling2 (None, 7, 7, 128)         0         \n",
            "_________________________________________________________________\n",
            "flatten_1 (Flatten)          (None, 6272)              0         \n",
            "_________________________________________________________________\n",
            "dense_1 (Dense)              (None, 512)               3211776   \n",
            "_________________________________________________________________\n",
            "dense_2 (Dense)              (None, 1)                 513       \n",
            "=================================================================\n",
            "Total params: 3,453,121\n",
            "Trainable params: 3,453,121\n",
            "Non-trainable params: 0\n",
            "_________________________________________________________________\n"
          ],
          "name": "stdout"
        }
      ]
    },
    {
      "cell_type": "code",
      "metadata": {
        "id": "2mG8wekxsBVS",
        "colab_type": "code",
        "outputId": "4c697931-42dd-472c-d042-66320c0e429c",
        "colab": {
          "base_uri": "https://localhost:8080/",
          "height": 156
        }
      },
      "source": [
        "from keras import optimizers\n",
        "model.compile(loss='binary_crossentropy', \n",
        "              optimizer=optimizers.RMSprop(lr=1e-4),\n",
        "              metrics=['acc'])"
      ],
      "execution_count": 11,
      "outputs": [
        {
          "output_type": "stream",
          "text": [
            "WARNING:tensorflow:From /usr/local/lib/python3.6/dist-packages/keras/optimizers.py:793: The name tf.train.Optimizer is deprecated. Please use tf.compat.v1.train.Optimizer instead.\n",
            "\n",
            "WARNING:tensorflow:From /usr/local/lib/python3.6/dist-packages/keras/backend/tensorflow_backend.py:3657: The name tf.log is deprecated. Please use tf.math.log instead.\n",
            "\n",
            "WARNING:tensorflow:From /tensorflow-1.15.2/python3.6/tensorflow_core/python/ops/nn_impl.py:183: where (from tensorflow.python.ops.array_ops) is deprecated and will be removed in a future version.\n",
            "Instructions for updating:\n",
            "Use tf.where in 2.0, which has the same broadcast rule as np.where\n"
          ],
          "name": "stdout"
        }
      ]
    },
    {
      "cell_type": "markdown",
      "metadata": {
        "id": "7zS4Klm8qWp6",
        "colab_type": "text"
      },
      "source": [
        "## Using ImageDataGenerator to read images from directories\n",
        "As you know by now, data should be formatted into appropriately preprocessed floatingpoint tensors before being fed into the network. Currently, the data sits on a drive as JPEG files, so the steps for getting it into the network are roughly as follows:\n",
        "\n",
        "* Read the picture files.\n",
        "* Decode the JPEG content to RGB grids of pixels.\n",
        "* Convert these into floating-point tensors.\n",
        "* Rescale the pixel values (between 0 and 255) to the [0, 1] interval (as you know, neural networks prefer to deal with small input values).\n",
        "\n",
        "It may seem a bit daunting, but fortunately Keras has utilities to take care of these steps automatically. Keras has a module with image-processing helper tools, located at keras.preprocessing.image. In particular, it contains the class ImageDataGenerator,which lets you quickly set up Python generators that can automatically turn image files on disk into batches of preprocessed tensors."
      ]
    },
    {
      "cell_type": "code",
      "metadata": {
        "id": "XJ7XU7t9sEh6",
        "colab_type": "code",
        "outputId": "92f91fea-fe39-44e5-9a54-39c5d1e66984",
        "colab": {
          "base_uri": "https://localhost:8080/",
          "height": 51
        }
      },
      "source": [
        "from keras.preprocessing.image import ImageDataGenerator\n",
        "\n",
        "train_datagen = ImageDataGenerator(rescale=1./255)\n",
        "test_datagen = ImageDataGenerator(rescale=1./255)\n",
        "\n",
        "train_generator = train_datagen.flow_from_directory(train_dir,\n",
        "                                                    target_size=(150, 150), \n",
        "                                                    batch_size=20,\n",
        "                                                    class_mode='binary')\n",
        "\n",
        "validation_generator = test_datagen.flow_from_directory(validation_dir,\n",
        "                                                        target_size=(150, 150),\n",
        "                                                        batch_size=20,\n",
        "                                                        class_mode='binary')"
      ],
      "execution_count": 12,
      "outputs": [
        {
          "output_type": "stream",
          "text": [
            "Found 2000 images belonging to 2 classes.\n",
            "Found 1000 images belonging to 2 classes.\n"
          ],
          "name": "stdout"
        }
      ]
    },
    {
      "cell_type": "markdown",
      "metadata": {
        "id": "SEgLywySqm4u",
        "colab_type": "text"
      },
      "source": [
        "Let’s fit the model to the data using the generator. You do so using the fit_generator method, the equivalent of fit for data generators like this one. It expects as its first argument a Python generator that will yield batches of inputs and targets indefinitely,like this one does. Because the data is being generated endlessly, the Keras model needs to know how many samples to draw from the generator before declaring anepoch over. This is the role of the `steps_per_epoch` argument: after having drawn `steps_per_epoch` batches from the generator—that is, after having run for `steps_per_epoch` gradient descent steps—the fitting process will go to the next epoch. In this case, batches are 20 samples, so it will take 100 batches until you see your target of 2,000 samples.\n",
        "\n",
        "When using fit_generator, you can pass a validation_data argument, much as with the fit method. It’s important to note that this argument is allowed to be a data generator, but it could also be a tuple of Numpy arrays. If you pass a generator as validation_data, then this generator is expected to yield batches of validation data endlessly; thus you should also specify the validation_steps argument, which tells the process how many batches to draw from the validation generator for evaluation."
      ]
    },
    {
      "cell_type": "code",
      "metadata": {
        "id": "yMyfPphJsJG6",
        "colab_type": "code",
        "outputId": "53781630-c0d1-4e7a-b88e-062679e12939",
        "colab": {
          "base_uri": "https://localhost:8080/",
          "height": 1000
        }
      },
      "source": [
        "history = model.fit_generator(train_generator,\n",
        "                              steps_per_epoch=100,\n",
        "                              epochs=30,\n",
        "                              validation_data=validation_generator,\n",
        "                              validation_steps=10)"
      ],
      "execution_count": 13,
      "outputs": [
        {
          "output_type": "stream",
          "text": [
            "WARNING:tensorflow:From /usr/local/lib/python3.6/dist-packages/keras/backend/tensorflow_backend.py:1033: The name tf.assign_add is deprecated. Please use tf.compat.v1.assign_add instead.\n",
            "\n",
            "WARNING:tensorflow:From /usr/local/lib/python3.6/dist-packages/keras/backend/tensorflow_backend.py:1020: The name tf.assign is deprecated. Please use tf.compat.v1.assign instead.\n",
            "\n",
            "WARNING:tensorflow:From /usr/local/lib/python3.6/dist-packages/keras/backend/tensorflow_backend.py:3005: The name tf.Session is deprecated. Please use tf.compat.v1.Session instead.\n",
            "\n",
            "Epoch 1/30\n",
            "WARNING:tensorflow:From /usr/local/lib/python3.6/dist-packages/keras/backend/tensorflow_backend.py:190: The name tf.get_default_session is deprecated. Please use tf.compat.v1.get_default_session instead.\n",
            "\n",
            "WARNING:tensorflow:From /usr/local/lib/python3.6/dist-packages/keras/backend/tensorflow_backend.py:197: The name tf.ConfigProto is deprecated. Please use tf.compat.v1.ConfigProto instead.\n",
            "\n",
            "WARNING:tensorflow:From /usr/local/lib/python3.6/dist-packages/keras/backend/tensorflow_backend.py:207: The name tf.global_variables is deprecated. Please use tf.compat.v1.global_variables instead.\n",
            "\n",
            "WARNING:tensorflow:From /usr/local/lib/python3.6/dist-packages/keras/backend/tensorflow_backend.py:216: The name tf.is_variable_initialized is deprecated. Please use tf.compat.v1.is_variable_initialized instead.\n",
            "\n",
            "WARNING:tensorflow:From /usr/local/lib/python3.6/dist-packages/keras/backend/tensorflow_backend.py:223: The name tf.variables_initializer is deprecated. Please use tf.compat.v1.variables_initializer instead.\n",
            "\n",
            "100/100 [==============================] - 19s 189ms/step - loss: 0.6912 - acc: 0.5260 - val_loss: 0.6765 - val_acc: 0.5550\n",
            "Epoch 2/30\n",
            "100/100 [==============================] - 6s 62ms/step - loss: 0.6594 - acc: 0.6145 - val_loss: 0.6319 - val_acc: 0.6300\n",
            "Epoch 3/30\n",
            "100/100 [==============================] - 6s 62ms/step - loss: 0.6142 - acc: 0.6535 - val_loss: 0.6496 - val_acc: 0.5900\n",
            "Epoch 4/30\n",
            "100/100 [==============================] - 6s 63ms/step - loss: 0.5779 - acc: 0.6895 - val_loss: 0.5711 - val_acc: 0.7400\n",
            "Epoch 5/30\n",
            "100/100 [==============================] - 6s 60ms/step - loss: 0.5419 - acc: 0.7280 - val_loss: 0.6264 - val_acc: 0.6300\n",
            "Epoch 6/30\n",
            "100/100 [==============================] - 6s 63ms/step - loss: 0.5135 - acc: 0.7395 - val_loss: 0.6476 - val_acc: 0.6000\n",
            "Epoch 7/30\n",
            "100/100 [==============================] - 6s 62ms/step - loss: 0.4848 - acc: 0.7750 - val_loss: 0.5468 - val_acc: 0.6800\n",
            "Epoch 8/30\n",
            "100/100 [==============================] - 6s 64ms/step - loss: 0.4546 - acc: 0.7755 - val_loss: 0.5459 - val_acc: 0.7150\n",
            "Epoch 9/30\n",
            "100/100 [==============================] - 6s 62ms/step - loss: 0.4227 - acc: 0.8095 - val_loss: 0.5443 - val_acc: 0.7200\n",
            "Epoch 10/30\n",
            "100/100 [==============================] - 6s 62ms/step - loss: 0.4087 - acc: 0.8140 - val_loss: 0.5059 - val_acc: 0.7550\n",
            "Epoch 11/30\n",
            "100/100 [==============================] - 6s 63ms/step - loss: 0.3791 - acc: 0.8325 - val_loss: 0.5931 - val_acc: 0.7250\n",
            "Epoch 12/30\n",
            "100/100 [==============================] - 6s 62ms/step - loss: 0.3494 - acc: 0.8460 - val_loss: 0.5795 - val_acc: 0.7350\n",
            "Epoch 13/30\n",
            "100/100 [==============================] - 6s 62ms/step - loss: 0.3216 - acc: 0.8620 - val_loss: 0.5227 - val_acc: 0.7600\n",
            "Epoch 14/30\n",
            "100/100 [==============================] - 6s 62ms/step - loss: 0.3014 - acc: 0.8825 - val_loss: 0.5365 - val_acc: 0.7250\n",
            "Epoch 15/30\n",
            "100/100 [==============================] - 6s 62ms/step - loss: 0.2813 - acc: 0.8780 - val_loss: 0.5701 - val_acc: 0.7350\n",
            "Epoch 16/30\n",
            "100/100 [==============================] - 6s 63ms/step - loss: 0.2602 - acc: 0.8920 - val_loss: 0.5710 - val_acc: 0.7250\n",
            "Epoch 17/30\n",
            "100/100 [==============================] - 6s 63ms/step - loss: 0.2405 - acc: 0.9080 - val_loss: 0.6233 - val_acc: 0.7550\n",
            "Epoch 18/30\n",
            "100/100 [==============================] - 6s 62ms/step - loss: 0.2153 - acc: 0.9195 - val_loss: 0.8611 - val_acc: 0.7200\n",
            "Epoch 19/30\n",
            "100/100 [==============================] - 6s 63ms/step - loss: 0.1955 - acc: 0.9275 - val_loss: 0.6065 - val_acc: 0.7500\n",
            "Epoch 20/30\n",
            "100/100 [==============================] - 6s 62ms/step - loss: 0.1703 - acc: 0.9375 - val_loss: 0.6674 - val_acc: 0.7350\n",
            "Epoch 21/30\n",
            "100/100 [==============================] - 6s 63ms/step - loss: 0.1561 - acc: 0.9490 - val_loss: 0.5824 - val_acc: 0.7750\n",
            "Epoch 22/30\n",
            "100/100 [==============================] - 6s 63ms/step - loss: 0.1398 - acc: 0.9520 - val_loss: 0.6772 - val_acc: 0.7350\n",
            "Epoch 23/30\n",
            "100/100 [==============================] - 6s 63ms/step - loss: 0.1185 - acc: 0.9635 - val_loss: 0.7508 - val_acc: 0.7350\n",
            "Epoch 24/30\n",
            "100/100 [==============================] - 6s 63ms/step - loss: 0.1069 - acc: 0.9695 - val_loss: 0.7528 - val_acc: 0.7550\n",
            "Epoch 25/30\n",
            "100/100 [==============================] - 6s 62ms/step - loss: 0.0930 - acc: 0.9720 - val_loss: 0.8783 - val_acc: 0.7000\n",
            "Epoch 26/30\n",
            "100/100 [==============================] - 6s 63ms/step - loss: 0.0797 - acc: 0.9780 - val_loss: 0.6795 - val_acc: 0.7850\n",
            "Epoch 27/30\n",
            "100/100 [==============================] - 6s 62ms/step - loss: 0.0685 - acc: 0.9815 - val_loss: 0.7840 - val_acc: 0.7500\n",
            "Epoch 28/30\n",
            "100/100 [==============================] - 6s 62ms/step - loss: 0.0610 - acc: 0.9855 - val_loss: 0.8410 - val_acc: 0.7450\n",
            "Epoch 29/30\n",
            "100/100 [==============================] - 6s 63ms/step - loss: 0.0492 - acc: 0.9890 - val_loss: 1.0197 - val_acc: 0.7450\n",
            "Epoch 30/30\n",
            "100/100 [==============================] - 6s 62ms/step - loss: 0.0425 - acc: 0.9910 - val_loss: 1.2358 - val_acc: 0.6850\n"
          ],
          "name": "stdout"
        }
      ]
    },
    {
      "cell_type": "code",
      "metadata": {
        "id": "MZaZ2HWZsNUi",
        "colab_type": "code",
        "outputId": "e6ef88d2-5fc3-4efc-bd31-f2304f4c140f",
        "colab": {
          "base_uri": "https://localhost:8080/",
          "height": 545
        }
      },
      "source": [
        "model.save('cats_and_dogs_small_1.h5')\n",
        "\n",
        "import matplotlib.pyplot as plt\n",
        "\n",
        "acc = history.history['acc']\n",
        "val_acc = history.history['val_acc']\n",
        "loss = history.history['loss']\n",
        "val_loss = history.history['val_loss']\n",
        "\n",
        "epochs = range(1, len(acc) + 1)\n",
        "\n",
        "plt.plot(epochs, acc, 'bo', label='Training acc')\n",
        "plt.plot(epochs, val_acc, 'b', label='Validation acc')\n",
        "plt.title('Training and validation accuracy')\n",
        "plt.legend()\n",
        "\n",
        "plt.figure()\n",
        "\n",
        "plt.plot(epochs, loss, 'bo', label='Training loss')\n",
        "plt.plot(epochs, val_loss, 'b', label='Validation loss')\n",
        "plt.title('Training and validation loss')\n",
        "plt.legend()\n",
        "\n",
        "plt.show()"
      ],
      "execution_count": 14,
      "outputs": [
        {
          "output_type": "display_data",
          "data": {
            "image/png": "[encoded data removed]",
            "text/plain": [
              "<Figure size 432x288 with 1 Axes>"
            ]
          },
          "metadata": {
            "tags": []
          }
        },
        {
          "output_type": "display_data",
          "data": {
            "image/png": "[encoded data removed]",
            "text/plain": [
              "<Figure size 432x288 with 1 Axes>"
            ]
          },
          "metadata": {
            "tags": []
          }
        }
      ]
    },
    {
      "cell_type": "markdown",
      "metadata": {
        "id": "XKZmXmBcq_8-",
        "colab_type": "text"
      },
      "source": [
        "## Convolutional Networks with Dropout\n",
        "\n",
        "![alt text](https://camo.githubusercontent.com/ee6fa1073247cd2c3d241300caf110d7a7541bc5/68747470733a2f2f63646e2d696d616765732d312e6d656469756d2e636f6d2f6d61782f3830302f312a4972644a355067684439596f4f7956415137334d4a772e676966)\n",
        "\n",
        "Ref: https://github.com/mneha4/Training-Neural-Nets---Guidelines"
      ]
    },
    {
      "cell_type": "code",
      "metadata": {
        "id": "wu3cqeYQrDeN",
        "colab_type": "code",
        "outputId": "8dd91f8e-32da-4280-ce62-c2d8cfa3d85b",
        "colab": {
          "base_uri": "https://localhost:8080/",
          "height": 122
        }
      },
      "source": [
        "model = models.Sequential()\n",
        "model.add(layers.Conv2D(32, (3, 3), activation='relu',\n",
        "input_shape=(150, 150, 3)))\n",
        "model.add(layers.MaxPooling2D((2, 2)))\n",
        "model.add(layers.Conv2D(64, (3, 3), activation='relu'))\n",
        "model.add(layers.MaxPooling2D((2, 2)))\n",
        "model.add(layers.Conv2D(128, (3, 3), activation='relu'))\n",
        "model.add(layers.MaxPooling2D((2, 2)))\n",
        "model.add(layers.Conv2D(128, (3, 3), activation='relu'))\n",
        "model.add(layers.MaxPooling2D((2, 2)))\n",
        "model.add(layers.Flatten())\n",
        "model.add(layers.Dropout(0.5))\n",
        "model.add(layers.Dense(512, activation='relu'))\n",
        "model.add(layers.Dense(1, activation='sigmoid'))\n",
        "\n",
        "model.compile(loss='binary_crossentropy',\n",
        "              optimizer=optimizers.RMSprop(lr=1e-4),\n",
        "              metrics=['acc'])"
      ],
      "execution_count": 15,
      "outputs": [
        {
          "output_type": "stream",
          "text": [
            "WARNING:tensorflow:From /usr/local/lib/python3.6/dist-packages/keras/backend/tensorflow_backend.py:148: The name tf.placeholder_with_default is deprecated. Please use tf.compat.v1.placeholder_with_default instead.\n",
            "\n",
            "WARNING:tensorflow:From /usr/local/lib/python3.6/dist-packages/keras/backend/tensorflow_backend.py:3733: calling dropout (from tensorflow.python.ops.nn_ops) with keep_prob is deprecated and will be removed in a future version.\n",
            "Instructions for updating:\n",
            "Please use `rate` instead of `keep_prob`. Rate should be set to `rate = 1 - keep_prob`.\n"
          ],
          "name": "stdout"
        }
      ]
    },
    {
      "cell_type": "code",
      "metadata": {
        "id": "QSeLpvY0rH7F",
        "colab_type": "code",
        "outputId": "cdcf19c2-a484-4acc-9f30-376c40a28eaf",
        "colab": {
          "base_uri": "https://localhost:8080/",
          "height": 731
        }
      },
      "source": [
        "\n",
        "train_datagen = ImageDataGenerator(rescale=1./255,\n",
        "                                   rotation_range=40,\n",
        "                                   width_shift_range=0.2,\n",
        "                                   height_shift_range=0.2,\n",
        "                                   shear_range=0.2,\n",
        "                                   zoom_range=0.2,\n",
        "                                   horizontal_flip=True,)\n",
        "\n",
        "test_datagen = ImageDataGenerator(rescale=1./255)\n",
        "\n",
        "train_generator = train_datagen.flow_from_directory(train_dir,\n",
        "                                                    target_size=(150, 150),\n",
        "                                                    batch_size=32,\n",
        "                                                    class_mode='binary')\n",
        "\n",
        "validation_generator = test_datagen.flow_from_directory(validation_dir,\n",
        "                                                        target_size=(150, 150),\n",
        "                                                        batch_size=32,\n",
        "                                                        class_mode='binary')\n",
        "\n",
        "history = model.fit_generator(train_generator,\n",
        "                              steps_per_epoch=100,\n",
        "                              epochs=20,\n",
        "                              validation_data=validation_generator,\n",
        "                              validation_steps=50)"
      ],
      "execution_count": 16,
      "outputs": [
        {
          "output_type": "stream",
          "text": [
            "Found 2000 images belonging to 2 classes.\n",
            "Found 1000 images belonging to 2 classes.\n",
            "Epoch 1/20\n",
            "100/100 [==============================] - 28s 282ms/step - loss: 0.6922 - acc: 0.5197 - val_loss: 0.6767 - val_acc: 0.5907\n",
            "Epoch 2/20\n",
            "100/100 [==============================] - 26s 255ms/step - loss: 0.6773 - acc: 0.5781 - val_loss: 0.6605 - val_acc: 0.5966\n",
            "Epoch 3/20\n",
            "100/100 [==============================] - 25s 253ms/step - loss: 0.6629 - acc: 0.5950 - val_loss: 0.6476 - val_acc: 0.6072\n",
            "Epoch 4/20\n",
            "100/100 [==============================] - 25s 255ms/step - loss: 0.6521 - acc: 0.6110 - val_loss: 0.6316 - val_acc: 0.6340\n",
            "Epoch 5/20\n",
            "100/100 [==============================] - 25s 246ms/step - loss: 0.6275 - acc: 0.6338 - val_loss: 0.6379 - val_acc: 0.6142\n",
            "Epoch 6/20\n",
            "100/100 [==============================] - 27s 268ms/step - loss: 0.6129 - acc: 0.6634 - val_loss: 0.6347 - val_acc: 0.6424\n",
            "Epoch 7/20\n",
            "100/100 [==============================] - 25s 255ms/step - loss: 0.6047 - acc: 0.6803 - val_loss: 0.5815 - val_acc: 0.6865\n",
            "Epoch 8/20\n",
            "100/100 [==============================] - 26s 255ms/step - loss: 0.5984 - acc: 0.6794 - val_loss: 0.5848 - val_acc: 0.6881\n",
            "Epoch 9/20\n",
            "100/100 [==============================] - 25s 252ms/step - loss: 0.5839 - acc: 0.6894 - val_loss: 0.5901 - val_acc: 0.6765\n",
            "Epoch 10/20\n",
            "100/100 [==============================] - 25s 254ms/step - loss: 0.5811 - acc: 0.6941 - val_loss: 0.5504 - val_acc: 0.7126\n",
            "Epoch 11/20\n",
            "100/100 [==============================] - 27s 265ms/step - loss: 0.5709 - acc: 0.6994 - val_loss: 0.6179 - val_acc: 0.6772\n",
            "Epoch 12/20\n",
            "100/100 [==============================] - 26s 255ms/step - loss: 0.5618 - acc: 0.7103 - val_loss: 0.5640 - val_acc: 0.6910\n",
            "Epoch 13/20\n",
            "100/100 [==============================] - 25s 252ms/step - loss: 0.5613 - acc: 0.7116 - val_loss: 0.5823 - val_acc: 0.6830\n",
            "Epoch 14/20\n",
            "100/100 [==============================] - 25s 255ms/step - loss: 0.5637 - acc: 0.7047 - val_loss: 0.5798 - val_acc: 0.6980\n",
            "Epoch 15/20\n",
            "100/100 [==============================] - 25s 252ms/step - loss: 0.5503 - acc: 0.7244 - val_loss: 0.6565 - val_acc: 0.6398\n",
            "Epoch 16/20\n",
            "100/100 [==============================] - 25s 252ms/step - loss: 0.5551 - acc: 0.7191 - val_loss: 0.5795 - val_acc: 0.6978\n",
            "Epoch 17/20\n",
            "100/100 [==============================] - 24s 239ms/step - loss: 0.5423 - acc: 0.7303 - val_loss: 0.5752 - val_acc: 0.7062\n",
            "Epoch 18/20\n",
            "100/100 [==============================] - 27s 273ms/step - loss: 0.5390 - acc: 0.7259 - val_loss: 0.5631 - val_acc: 0.7023\n",
            "Epoch 19/20\n",
            "100/100 [==============================] - 26s 256ms/step - loss: 0.5286 - acc: 0.7394 - val_loss: 0.5111 - val_acc: 0.7379\n",
            "Epoch 20/20\n",
            "100/100 [==============================] - 25s 252ms/step - loss: 0.5237 - acc: 0.7369 - val_loss: 0.5126 - val_acc: 0.7635\n"
          ],
          "name": "stdout"
        }
      ]
    }
  ]
}