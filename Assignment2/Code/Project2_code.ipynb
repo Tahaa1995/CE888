{
  "nbformat": 4,
  "nbformat_minor": 0,
  "metadata": {
    "colab": {
      "name": "Project2_code.ipynb",
      "provenance": [],
      "collapsed_sections": []
    },
    "kernelspec": {
      "name": "python3",
      "display_name": "Python 3"
    },
    "accelerator": "GPU"
  },
  "cells": [
    {
      "cell_type": "code",
      "metadata": {
        "id": "cMITqgkQdwTH",
        "colab_type": "code",
        "colab": {}
      },
      "source": [
        "import pandas as pd\n",
        "from sklearn import tree\n",
        "from sklearn.tree import DecisionTreeClassifier\n",
        "from sklearn.ensemble import RandomForestClassifier\n",
        "from sklearn.model_selection import cross_val_score\n",
        "from pprint import pprint\n",
        "from collections import Counter\n",
        "from sklearn.preprocessing import MinMaxScaler\n",
        "from sklearn.cluster import KMeans\n",
        "import matplotlib.pyplot as plt\n",
        "import numpy as np\n",
        "from sklearn.model_selection import StratifiedKFold\n",
        "from sklearn.metrics import silhouette_samples, silhouette_score\n",
        "import matplotlib.cm as cm\n",
        "from sklearn.metrics import accuracy_score"
      ],
      "execution_count": 0,
      "outputs": []
    },
    {
      "cell_type": "markdown",
      "metadata": {
        "id": "AMlp3CFzvmLE",
        "colab_type": "text"
      },
      "source": [
        "Load Datasets"
      ]
    },
    {
      "cell_type": "code",
      "metadata": {
        "id": "7SnRX9GxdztC",
        "colab_type": "code",
        "outputId": "177dc6fc-ef11-4d78-b095-66d6287d4452",
        "colab": {
          "base_uri": "https://localhost:8080/",
          "height": 323
        }
      },
      "source": [
        "df_75_25=pd.read_csv('/content/75_25_haberman.csv')\n",
        "print(df_75_25)\n",
        "print(df_75_25['Class'].value_counts())\n",
        "\n",
        "print(\"Class imbalanced for {:.2f}% of the dataset\"\n",
        "      .format(df_75_25['Class'].value_counts()[0]/len(df_75_25)*100))"
      ],
      "execution_count": 0,
      "outputs": [
        {
          "output_type": "stream",
          "text": [
            "     Age  YearOfOper  AXNDetected  Class\n",
            "0     30          62            3      0\n",
            "1     30          65            0      0\n",
            "2     31          59            2      0\n",
            "3     31          65            4      0\n",
            "4     33          58           10      0\n",
            "..   ...         ...          ...    ...\n",
            "301   76          67            0      0\n",
            "302   77          65            3      0\n",
            "303   78          65            1      1\n",
            "304   83          58            2      1\n",
            "305   30          64            1      0\n",
            "\n",
            "[306 rows x 4 columns]\n",
            "0    225\n",
            "1     81\n",
            "Name: Class, dtype: int64\n",
            "Class imbalanced for 73.53% of the dataset\n"
          ],
          "name": "stdout"
        }
      ]
    },
    {
      "cell_type": "code",
      "metadata": {
        "id": "8m8f12H8vI_v",
        "colab_type": "code",
        "outputId": "3e722db4-6e98-40dc-a428-8073898edd59",
        "colab": {
          "base_uri": "https://localhost:8080/",
          "height": 323
        }
      },
      "source": [
        "df_65_35=pd.read_csv('/content/65_35_diabetes.csv')\n",
        "print(df_65_35)\n",
        "print(df_65_35['Class'].value_counts())\n",
        "\n",
        "print(\"Class imbalanced for {:.2f}% of the dataset\"\n",
        "      .format(df_65_35['Class'].value_counts()[0]/len(df_65_35)*100))"
      ],
      "execution_count": 0,
      "outputs": [
        {
          "output_type": "stream",
          "text": [
            "     Tpreg  Pgluc  DBP  TSFT  Insulin   BMI    DPF  Age  Class\n",
            "0        1     85   66    29        0  26.6  0.351   31      0\n",
            "1        8    183   64     0        0  23.3  0.672   32      1\n",
            "2        1     89   66    23       94  28.1  0.167   21      0\n",
            "3        0    137   40    35      168  43.1  2.288   33      1\n",
            "4        5    116   74     0        0  25.6  0.201   30      0\n",
            "..     ...    ...  ...   ...      ...   ...    ...  ...    ...\n",
            "763      2    122   70    27        0  36.8  0.340   27      0\n",
            "764      5    121   72    23      112  26.2  0.245   30      0\n",
            "765      1    126   60     0        0  30.1  0.349   47      1\n",
            "766      1     93   70    31        0  30.4  0.315   23      0\n",
            "767      6    148   72    35        0  33.6  0.627   50      1\n",
            "\n",
            "[768 rows x 9 columns]\n",
            "0    500\n",
            "1    268\n",
            "Name: Class, dtype: int64\n",
            "Class imbalanced for 65.10% of the dataset\n"
          ],
          "name": "stdout"
        }
      ]
    },
    {
      "cell_type": "code",
      "metadata": {
        "id": "9SW2kMJ0vKSx",
        "colab_type": "code",
        "outputId": "b3997842-aa77-4dc0-c8d0-bae2c6fd5e0e",
        "colab": {
          "base_uri": "https://localhost:8080/",
          "height": 323
        }
      },
      "source": [
        "df_90_10=pd.read_csv('/content/90_10_creditcard.csv')\n",
        "print(df_90_10)\n",
        "print(df_90_10['Class'].value_counts())\n",
        "\n",
        "print(\"Class imbalanced for {:.2f}% of the dataset\"\n",
        "      .format(df_90_10['Class'].value_counts()[0]/len(df_90_10)*100))"
      ],
      "execution_count": 0,
      "outputs": [
        {
          "output_type": "stream",
          "text": [
            "        Time        V1        V2        V3  ...       V27       V28  Amount  Class\n",
            "0          0 -1.359807 -0.072781  2.536347  ...  0.133558 -0.021053  149.62      0\n",
            "1          0  1.191857  0.266151  0.166480  ... -0.008983  0.014724    2.69      0\n",
            "2          1 -1.358354 -1.340163  1.773209  ... -0.055353 -0.059752  378.66      0\n",
            "3          1 -0.966272 -0.185226  1.792993  ...  0.062723  0.061458  123.50      0\n",
            "4          2 -1.158233  0.877737  1.548718  ...  0.219422  0.215153   69.99      0\n",
            "...      ...       ...       ...       ...  ...       ...       ...     ...    ...\n",
            "4915  169142 -1.927883  1.125653 -4.518331  ...  0.292680  0.147968  390.00      1\n",
            "4916  169347  1.378559  1.289381 -5.004247  ...  0.389152  0.186637    0.76      1\n",
            "4917  169351 -0.676143  1.126366 -2.213700  ...  0.385107  0.194361   77.89      1\n",
            "4918  169966 -3.113832  0.585864 -5.399730  ...  0.884876 -0.253700  245.00      1\n",
            "4919  170348  1.991976  0.158476 -2.583441  ...  0.002988 -0.015309   42.53      1\n",
            "\n",
            "[4920 rows x 31 columns]\n",
            "0    4428\n",
            "1     492\n",
            "Name: Class, dtype: int64\n",
            "Class imbalanced for 90.00% of the dataset\n"
          ],
          "name": "stdout"
        }
      ]
    },
    {
      "cell_type": "markdown",
      "metadata": {
        "id": "Sd1cCDERGkzo",
        "colab_type": "text"
      },
      "source": [
        "Create Functions"
      ]
    },
    {
      "cell_type": "code",
      "metadata": {
        "id": "Dq2z1o0sDeuW",
        "colab_type": "code",
        "colab": {}
      },
      "source": [
        "def getBestK(data):\n",
        "  range_n_clusters = [2, 3, 4, 5, 6]\n",
        "  sil_scores=[]\n",
        "\n",
        "  for n_clusters in range_n_clusters:\n",
        "\n",
        "      # Initialize the clusterer with n_clusters value and a random generator\n",
        "      # seed of 10 for reproducibility.\n",
        "      clusterer = KMeans(n_clusters=n_clusters, random_state=10)\n",
        "      cluster_labels = clusterer.fit_predict(data)\n",
        "\n",
        "      # The silhouette_score gives the average value for all the samples.\n",
        "      # This gives a perspective into the density and separation of the formed\n",
        "      # clusters\n",
        "      silhouette_avg = silhouette_score(data, cluster_labels)\n",
        "      #print(\"For n_clusters =\", n_clusters,\n",
        "      #      \"The average silhouette_score is :\", silhouette_avg)\n",
        "      sil_scores.append(silhouette_avg)\n",
        "\n",
        "  for j in range (len(sil_scores)):\n",
        "    if sil_scores[j]==max(sil_scores):\n",
        "      best_k=range_n_clusters[j]\n",
        "  return(best_k)"
      ],
      "execution_count": 0,
      "outputs": []
    },
    {
      "cell_type": "code",
      "metadata": {
        "id": "egd5xqKIFf-c",
        "colab_type": "code",
        "colab": {}
      },
      "source": [
        "def getCluster(k,X_train,y_train):  \n",
        "  clf =  KMeans(n_clusters=k)\n",
        "  clf.fit(X_train,y_train)\n",
        "\n",
        "  #Coordinates of cluster centers with shape [n_clusters, n_features]\n",
        "  clf.cluster_centers_\n",
        "  #Labels of each point\n",
        "  clf.labels_\n",
        "\n",
        "  # Nice Pythonic way to get the indices of the points for each corresponding cluster\n",
        "  mydict = {i: np.where(clf.labels_ == i)[0] for i in range(clf.n_clusters)}\n",
        "  return mydict"
      ],
      "execution_count": 0,
      "outputs": []
    },
    {
      "cell_type": "code",
      "metadata": {
        "id": "XSS5RMFyFrgW",
        "colab_type": "code",
        "colab": {}
      },
      "source": [
        "def findModpred(X_train,y_train,x_samp,mydict,clust):\n",
        "  clustClasses=y_train[mydict[clust]]\n",
        "  x_samp=np.reshape((np.asarray(x_samp)),(1,len(x_samp)))\n",
        "  if len(Counter(clustClasses).keys()) > 1:\n",
        "    rf = RandomForestClassifier(max_depth=2, random_state=0)\n",
        "    rf.fit(X_train[mydict[clust]], y_train[mydict[clust]])\n",
        "    mod_pred=rf.predict(x_samp)\n",
        "  else:\n",
        "    mod_pred=clustClasses[0] #as all the values in y_train from this cluster are same so selecting any one\n",
        "  return mod_pred"
      ],
      "execution_count": 0,
      "outputs": []
    },
    {
      "cell_type": "code",
      "metadata": {
        "id": "KTOq5RB-ZhHI",
        "colab_type": "code",
        "colab": {}
      },
      "source": [
        "def getyPred(k,X_train,y_train,X_test):\n",
        "  mydict=getCluster(k,X_train,y_train)\n",
        "  clf =  KMeans(n_clusters=k)\n",
        "  clf.fit(X_train,y_train)\n",
        "  Y_pred_kmeans=clf.predict(X_test)\n",
        "  for pred in range (len(Y_pred_kmeans)):\n",
        "    Y_pred_kmeans[pred]=findModpred(X_train,y_train,X_test[pred,:],mydict,Y_pred_kmeans[pred])\n",
        "  return Y_pred_kmeans"
      ],
      "execution_count": 0,
      "outputs": []
    },
    {
      "cell_type": "code",
      "metadata": {
        "id": "av56SPWp9R-i",
        "colab_type": "code",
        "colab": {}
      },
      "source": [
        "def stratCV(df):\n",
        "  accuracy=[]\n",
        "  bin=0\n",
        "  results_baseline=np.empty((2,12))\n",
        "\n",
        "  df=df.dropna() # Drop rows with Nan values\n",
        "  print(\"Class original value counts:\")\n",
        "  print(df['Class'].value_counts())\n",
        "\n",
        "  # Separate attributes and labels\n",
        "  X=df.drop(columns=['Class']).values\n",
        "  y=df['Class'].values\n",
        "\n",
        "  # Establishing baseline using Decision Tree\n",
        "  clf = DecisionTreeClassifier()\n",
        "  clf = clf.fit(X, y)\n",
        "  scores = cross_val_score(clf, X, y, cv=10)\n",
        "  scores=np.hstack((scores,scores.mean(),scores.std()))\n",
        "  results_baseline[0,:]=scores\n",
        "\n",
        "  # Establishing baseline using Random Forest\n",
        "  rf = RandomForestClassifier()\n",
        "  rf = rf.fit(X,y)\n",
        "  rf_scores = cross_val_score(rf, X, y, cv=10)\n",
        "  rf_scores=np.hstack((rf_scores,rf_scores.mean(),rf_scores.std()))\n",
        "  results_baseline[1,:]=rf_scores\n",
        "\n",
        "  # Performing stratified cross validation\n",
        "  skf = StratifiedKFold(n_splits=10)\n",
        "  skf.get_n_splits(X, y)\n",
        "  for train_index, test_index in skf.split(X, y):\n",
        "    print(\"\\nBin: \",bin)\n",
        "    X_train, X_test = X[train_index], X[test_index]\n",
        "    y_train, y_test = y[train_index], y[test_index]\n",
        "    print(\"TRAIN:\", len(X_train), \"TEST:\", len(X_test))\n",
        "    k=getBestK(X_train)\n",
        "    print(\"No. of Clusters= \"+str(k)+\"\\n\")\n",
        "    y_pred=getyPred(k,X_train,y_train,X_test)\n",
        "    acc=accuracy_score(y_test, y_pred)\n",
        "    accuracy.append(acc)\n",
        "    bin+=1\n",
        "  skf_res=np.hstack([accuracy,np.array(accuracy).mean(),np.array(accuracy).std()])\n",
        "  skf_res=skf_res.reshape(1,12)\n",
        "  results=np.concatenate((results_baseline,skf_res),axis=0)\n",
        "  return results"
      ],
      "execution_count": 0,
      "outputs": []
    },
    {
      "cell_type": "markdown",
      "metadata": {
        "id": "JlMz49T_jNim",
        "colab_type": "text"
      },
      "source": [
        "The main loop"
      ]
    },
    {
      "cell_type": "code",
      "metadata": {
        "id": "XYC3FT0hc3_-",
        "colab_type": "code",
        "outputId": "6cb48b33-c584-42e2-e084-0b2c684aed8b",
        "colab": {
          "base_uri": "https://localhost:8080/",
          "height": 1000
        }
      },
      "source": [
        "if __name__ == \"__main__\":\n",
        "  results=np.zeros((1,12))\n",
        "  print(\"-----------------------------------------------\")\n",
        "  print(\"Performing operations on 90% imbalanced dataset\")\n",
        "  print(\"-----------------------------------------------\\n\")\n",
        "  r=stratCV(df_90_10)\n",
        "  results=np.concatenate((results,r),axis=0)\n",
        "\n",
        "  print(\"\\n-----------------------------------------------\")\n",
        "  print(\"Performing operations on 75% imbalanced dataset\")\n",
        "  print(\"-----------------------------------------------\\n\")\n",
        "  r=stratCV(df_75_25)\n",
        "  results=np.concatenate((results,r),axis=0)\n",
        "\n",
        "  print(\"\\n-----------------------------------------------\")\n",
        "  print(\"Performing operations on 65% imbalanced dataset\")\n",
        "  print(\"-----------------------------------------------\\n\")\n",
        "  r=stratCV(df_65_35)\n",
        "  results=np.concatenate((results,r),axis=0)\n",
        "\n",
        "  results=results[1:,:]\n",
        "  df_out=pd.DataFrame(results)\n",
        "  df_out.to_csv('Results.csv', sep=',',index=False)"
      ],
      "execution_count": 0,
      "outputs": [
        {
          "output_type": "stream",
          "text": [
            "-----------------------------------------------\n",
            "Performing operations on 90% imbalanced dataset\n",
            "-----------------------------------------------\n",
            "\n",
            "Class original value counts:\n",
            "0    4428\n",
            "1     492\n",
            "Name: Class, dtype: int64\n",
            "\n",
            "Bin:  0\n",
            "TRAIN: 4428 TEST: 492\n",
            "No. of Clusters= 3\n",
            "\n",
            "\n",
            "Bin:  1\n",
            "TRAIN: 4428 TEST: 492\n",
            "No. of Clusters= 3\n",
            "\n",
            "\n",
            "Bin:  2\n",
            "TRAIN: 4428 TEST: 492\n",
            "No. of Clusters= 3\n",
            "\n",
            "\n",
            "Bin:  3\n",
            "TRAIN: 4428 TEST: 492\n",
            "No. of Clusters= 2\n",
            "\n",
            "\n",
            "Bin:  4\n",
            "TRAIN: 4428 TEST: 492\n",
            "No. of Clusters= 2\n",
            "\n",
            "\n",
            "Bin:  5\n",
            "TRAIN: 4428 TEST: 492\n",
            "No. of Clusters= 2\n",
            "\n",
            "\n",
            "Bin:  6\n",
            "TRAIN: 4428 TEST: 492\n",
            "No. of Clusters= 3\n",
            "\n",
            "\n",
            "Bin:  7\n",
            "TRAIN: 4428 TEST: 492\n",
            "No. of Clusters= 3\n",
            "\n",
            "\n",
            "Bin:  8\n",
            "TRAIN: 4428 TEST: 492\n",
            "No. of Clusters= 2\n",
            "\n",
            "\n",
            "Bin:  9\n",
            "TRAIN: 4428 TEST: 492\n",
            "No. of Clusters= 2\n",
            "\n",
            "\n",
            "-----------------------------------------------\n",
            "Performing operations on 75% imbalanced dataset\n",
            "-----------------------------------------------\n",
            "\n",
            "Class original value counts:\n",
            "0    225\n",
            "1     81\n",
            "Name: Class, dtype: int64\n",
            "\n",
            "Bin:  0\n",
            "TRAIN: 275 TEST: 31\n",
            "No. of Clusters= 3\n",
            "\n",
            "\n",
            "Bin:  1\n",
            "TRAIN: 275 TEST: 31\n",
            "No. of Clusters= 3\n",
            "\n",
            "\n",
            "Bin:  2\n",
            "TRAIN: 275 TEST: 31\n",
            "No. of Clusters= 3\n",
            "\n",
            "\n",
            "Bin:  3\n",
            "TRAIN: 275 TEST: 31\n",
            "No. of Clusters= 3\n",
            "\n",
            "\n",
            "Bin:  4\n",
            "TRAIN: 275 TEST: 31\n",
            "No. of Clusters= 3\n",
            "\n",
            "\n",
            "Bin:  5\n",
            "TRAIN: 275 TEST: 31\n",
            "No. of Clusters= 3\n",
            "\n",
            "\n",
            "Bin:  6\n",
            "TRAIN: 276 TEST: 30\n",
            "No. of Clusters= 3\n",
            "\n",
            "\n",
            "Bin:  7\n",
            "TRAIN: 276 TEST: 30\n",
            "No. of Clusters= 3\n",
            "\n",
            "\n",
            "Bin:  8\n",
            "TRAIN: 276 TEST: 30\n",
            "No. of Clusters= 4\n",
            "\n",
            "\n",
            "Bin:  9\n",
            "TRAIN: 276 TEST: 30\n",
            "No. of Clusters= 3\n",
            "\n",
            "\n",
            "-----------------------------------------------\n",
            "Performing operations on 65% imbalanced dataset\n",
            "-----------------------------------------------\n",
            "\n",
            "Class original value counts:\n",
            "0    500\n",
            "1    268\n",
            "Name: Class, dtype: int64\n",
            "\n",
            "Bin:  0\n",
            "TRAIN: 691 TEST: 77\n",
            "No. of Clusters= 2\n",
            "\n",
            "\n",
            "Bin:  1\n",
            "TRAIN: 691 TEST: 77\n",
            "No. of Clusters= 2\n",
            "\n",
            "\n",
            "Bin:  2\n",
            "TRAIN: 691 TEST: 77\n",
            "No. of Clusters= 2\n",
            "\n",
            "\n",
            "Bin:  3\n",
            "TRAIN: 691 TEST: 77\n",
            "No. of Clusters= 2\n",
            "\n",
            "\n",
            "Bin:  4\n",
            "TRAIN: 691 TEST: 77\n",
            "No. of Clusters= 2\n",
            "\n",
            "\n",
            "Bin:  5\n",
            "TRAIN: 691 TEST: 77\n",
            "No. of Clusters= 2\n",
            "\n",
            "\n",
            "Bin:  6\n",
            "TRAIN: 691 TEST: 77\n",
            "No. of Clusters= 2\n",
            "\n",
            "\n",
            "Bin:  7\n",
            "TRAIN: 691 TEST: 77\n",
            "No. of Clusters= 2\n",
            "\n",
            "\n",
            "Bin:  8\n",
            "TRAIN: 692 TEST: 76\n",
            "No. of Clusters= 2\n",
            "\n",
            "\n",
            "Bin:  9\n",
            "TRAIN: 692 TEST: 76\n",
            "No. of Clusters= 2\n",
            "\n"
          ],
          "name": "stdout"
        }
      ]
    },
    {
      "cell_type": "code",
      "metadata": {
        "id": "OdFC66Cnx0Ko",
        "colab_type": "code",
        "outputId": "c23b4d26-ed3b-40c1-ffaa-b29ff72c6f6b",
        "colab": {
          "base_uri": "https://localhost:8080/",
          "height": 221
        }
      },
      "source": [
        "print(df_out)"
      ],
      "execution_count": 0,
      "outputs": [
        {
          "output_type": "stream",
          "text": [
            "         0         1         2   ...        9         10        11\n",
            "0  0.939024  0.995935  1.000000  ...  0.400407  0.933130  0.178477\n",
            "1  0.995935  1.000000  1.000000  ...  1.000000  0.999593  0.001220\n",
            "2  0.977642  0.975610  1.000000  ...  1.000000  0.900000  0.275164\n",
            "3  0.741935  0.354839  0.290323  ...  0.733333  0.625161  0.162251\n",
            "4  0.741935  0.516129  0.580645  ...  0.733333  0.680430  0.081822\n",
            "5  0.741935  0.741935  0.258065  ...  0.300000  0.585161  0.220016\n",
            "6  0.636364  0.753247  0.701299  ...  0.723684  0.695301  0.060219\n",
            "7  0.740260  0.805195  0.740260  ...  0.815789  0.766917  0.048233\n",
            "8  0.766234  0.740260  0.766234  ...  0.763158  0.709706  0.065195\n",
            "\n",
            "[9 rows x 12 columns]\n"
          ],
          "name": "stdout"
        }
      ]
    }
  ]
}