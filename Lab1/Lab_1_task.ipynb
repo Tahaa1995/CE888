{
  "nbformat": 4,
  "nbformat_minor": 0,
  "metadata": {
    "colab": {
      "name": "Lab_1_task.ipynb",
      "provenance": [],
      "collapsed_sections": [],
      "authorship_tag": "ABX9TyPilMaGplW13V6Hq9aCgtsj",
      "include_colab_link": true
    },
    "kernelspec": {
      "name": "python3",
      "display_name": "Python 3"
    },
    "accelerator": "GPU"
  },
  "cells": [
    {
      "cell_type": "markdown",
      "metadata": {
        "id": "view-in-github",
        "colab_type": "text"
      },
      "source": [
        "<a href=\"https://colab.research.google.com/github/Tahaa1995/CE888/blob/master/Lab1/Lab_1_task.ipynb\" target=\"_parent\"><img src=\"https://colab.research.google.com/assets/colab-badge.svg\" alt=\"Open In Colab\"/></a>"
      ]
    },
    {
      "cell_type": "code",
      "metadata": {
        "id": "AFXn9-1jw_CJ",
        "colab_type": "code",
        "colab": {}
      },
      "source": [
        "import matplotlib.pyplot as plt\n",
        "import numpy as np\n",
        "\n",
        "t = np.linspace(0, 2*np.pi, 50)\n",
        "x = np.sin(t)\n",
        "y = np.cos(t)"
      ],
      "execution_count": 0,
      "outputs": []
    },
    {
      "cell_type": "code",
      "metadata": {
        "id": "2dUJN7RXLbK5",
        "colab_type": "code",
        "outputId": "dcfc52cf-3ebe-426b-971b-a38439ccaa40",
        "colab": {
          "base_uri": "https://localhost:8080/",
          "height": 51
        }
      },
      "source": [
        "#Tasks_1\n",
        "a = np.array([[ 1, 2, 3, 4],\n",
        "              [1,2,3,4]])\n",
        "print(a)"
      ],
      "execution_count": 0,
      "outputs": [
        {
          "output_type": "stream",
          "text": [
            "[[1 2 3 4]\n",
            " [1 2 3 4]]\n"
          ],
          "name": "stdout"
        }
      ]
    },
    {
      "cell_type": "code",
      "metadata": {
        "id": "4QNlGfswMghm",
        "colab_type": "code",
        "outputId": "c761894e-700b-4e49-9511-1170052ee892",
        "colab": {
          "base_uri": "https://localhost:8080/",
          "height": 34
        }
      },
      "source": [
        "#Task_2_a\n",
        "\n",
        "a = np.array([8, 5, 6, 3, 9, 1, 4, 2, 7, 0])\n",
        "\n",
        "# Sort in ascending order\n",
        "sorted_array = np.sort(a)\n",
        "print(sorted_array)"
      ],
      "execution_count": 0,
      "outputs": [
        {
          "output_type": "stream",
          "text": [
            "[0 1 2 3 4 5 6 7 8 9]\n"
          ],
          "name": "stdout"
        }
      ]
    },
    {
      "cell_type": "code",
      "metadata": {
        "id": "MPchYnAYO9DJ",
        "colab_type": "code",
        "outputId": "21fc685c-fd21-4510-e5a9-00a01f85a14f",
        "colab": {
          "base_uri": "https://localhost:8080/",
          "height": 34
        }
      },
      "source": [
        "#Task_2_b\n",
        "a = np.array([8, 5, 6, 3, 9, 1, 4, 2, 7, 0])\n",
        "\n",
        "#sorted in decending order\n",
        "reverse_array = sorted_array[::-1]\n",
        "print(reverse_array)"
      ],
      "execution_count": 0,
      "outputs": [
        {
          "output_type": "stream",
          "text": [
            "[9 8 7 6 5 4 3 2 1 0]\n"
          ],
          "name": "stdout"
        }
      ]
    },
    {
      "cell_type": "code",
      "metadata": {
        "id": "FrWkZhgDPeoL",
        "colab_type": "code",
        "outputId": "fda6ed87-9b19-4cfb-9377-193892b7444a",
        "colab": {
          "base_uri": "https://localhost:8080/",
          "height": 34
        }
      },
      "source": [
        "a = np.array([ 1, 2, 3, 4, 5, 6, 7, 8, 9])\n",
        "\n",
        "print(a)"
      ],
      "execution_count": 0,
      "outputs": [
        {
          "output_type": "stream",
          "text": [
            "[1 2 3 4 5 6 7 8 9]\n"
          ],
          "name": "stdout"
        }
      ]
    },
    {
      "cell_type": "code",
      "metadata": {
        "id": "CyiPQDlaRpce",
        "colab_type": "code",
        "outputId": "7bf8e16e-d3f1-4dee-c711-9d8894f8b57e",
        "colab": {
          "base_uri": "https://localhost:8080/",
          "height": 68
        }
      },
      "source": [
        "#Task_3\n",
        "\n",
        "a = np.array([ 1, 2, 3, 4, 5, 6, 7, 8, 9])\n",
        "\n",
        "np.resize(a, 9).reshape(3,3)"
      ],
      "execution_count": 0,
      "outputs": [
        {
          "output_type": "execute_result",
          "data": {
            "text/plain": [
              "array([[1, 2, 3],\n",
              "       [4, 5, 6],\n",
              "       [7, 8, 9]])"
            ]
          },
          "metadata": {
            "tags": []
          },
          "execution_count": 6
        }
      ]
    },
    {
      "cell_type": "code",
      "metadata": {
        "id": "Pkb8ePtgUfo5",
        "colab_type": "code",
        "outputId": "1b8c653b-d104-4a43-b5eb-9a38d057162c",
        "colab": {
          "base_uri": "https://localhost:8080/",
          "height": 34
        }
      },
      "source": [
        "#Task_4_a\n",
        "\n",
        "a = np.array([ 1, 2, 3, 4, 5, 6, 7, 8, 9])\n",
        "b = np.array([9,8,7,6,5,4,3,2,1])\n",
        "#horizontal\n",
        "np.hstack((a,b))"
      ],
      "execution_count": 0,
      "outputs": [
        {
          "output_type": "execute_result",
          "data": {
            "text/plain": [
              "array([1, 2, 3, 4, 5, 6, 7, 8, 9, 9, 8, 7, 6, 5, 4, 3, 2, 1])"
            ]
          },
          "metadata": {
            "tags": []
          },
          "execution_count": 7
        }
      ]
    },
    {
      "cell_type": "code",
      "metadata": {
        "id": "ShnXX0dc0Z0R",
        "colab_type": "code",
        "outputId": "50fae006-4a63-4a0f-d347-26bf8183d5ba",
        "colab": {
          "base_uri": "https://localhost:8080/",
          "height": 51
        }
      },
      "source": [
        "#Task_4_b\n",
        "\n",
        "#vertical\n",
        "np.vstack((a,b))"
      ],
      "execution_count": 0,
      "outputs": [
        {
          "output_type": "execute_result",
          "data": {
            "text/plain": [
              "array([[1, 2, 3, 4, 5, 6, 7, 8, 9],\n",
              "       [9, 8, 7, 6, 5, 4, 3, 2, 1]])"
            ]
          },
          "metadata": {
            "tags": []
          },
          "execution_count": 8
        }
      ]
    },
    {
      "cell_type": "code",
      "metadata": {
        "id": "F4xiWr8kVhFJ",
        "colab_type": "code",
        "outputId": "ecc2a512-41c2-45b9-cc7e-f1e1f22f7da8",
        "colab": {
          "base_uri": "https://localhost:8080/",
          "height": 34
        }
      },
      "source": [
        "#Task_5\n",
        "\n",
        "a = np.array([5,6,7,8,9,1])\n",
        "b = np.array([1,2,3,4,5,6])\n",
        "\n",
        "list(set(a).intersection(b))"
      ],
      "execution_count": 0,
      "outputs": [
        {
          "output_type": "execute_result",
          "data": {
            "text/plain": [
              "[1, 5, 6]"
            ]
          },
          "metadata": {
            "tags": []
          },
          "execution_count": 9
        }
      ]
    },
    {
      "cell_type": "code",
      "metadata": {
        "id": "zWS5-f2hWbMO",
        "colab_type": "code",
        "outputId": "4e67f295-9002-44e7-c070-82a89d53716c",
        "colab": {
          "base_uri": "https://localhost:8080/",
          "height": 204
        }
      },
      "source": [
        "#Task_6\n",
        "\n",
        "a = np.random.randint(0, 10, (5,5))\n",
        "print(a)\n",
        "\n",
        "print(\"\")\n",
        "print(\"for Row:\")\n",
        "print(f\"Minimum: {a.min(axis=1)}, maximum: {a.max(axis=1)}\")\n",
        "\n",
        "print(\"\")\n",
        "print(\"For coluomn:\")\n",
        "print(f\"Minimum: {a.min(axis=0)}, maximum: {a.max(axis=0)}\")"
      ],
      "execution_count": 0,
      "outputs": [
        {
          "output_type": "stream",
          "text": [
            "[[0 2 4 1 8]\n",
            " [7 6 7 6 4]\n",
            " [9 3 9 6 7]\n",
            " [5 3 6 9 2]\n",
            " [5 4 2 0 6]]\n",
            "\n",
            "for Row:\n",
            "Minimum: [0 4 3 2 0], maximum: [8 7 9 9 6]\n",
            "\n",
            "For coluomn:\n",
            "Minimum: [0 2 2 0 2], maximum: [9 6 9 9 8]\n"
          ],
          "name": "stdout"
        }
      ]
    },
    {
      "cell_type": "code",
      "metadata": {
        "id": "-0qeJJI_8FAA",
        "colab_type": "code",
        "outputId": "7e752e2c-4fa4-47f0-9fb9-06d63f8b47e6",
        "colab": {
          "base_uri": "https://localhost:8080/",
          "height": 102
        }
      },
      "source": [
        "#Task_7\n",
        "\n",
        "a = np.random.randint(0, 10, (100))\n",
        "print(a)\n",
        "print(\"\")\n",
        "\n",
        "print(f\"Mean: {a.mean()}, Median: {np.median(a)}, Standard Deviation: {a.std()}\")"
      ],
      "execution_count": 0,
      "outputs": [
        {
          "output_type": "stream",
          "text": [
            "[3 9 7 8 8 8 1 5 7 7 9 8 4 3 7 2 8 9 3 0 8 1 2 8 1 1 4 9 2 9 2 7 9 3 2 2 8\n",
            " 9 1 8 7 1 2 9 6 6 7 2 4 7 3 5 0 8 5 3 4 5 6 8 0 8 7 9 8 1 5 7 9 7 4 5 1 1\n",
            " 7 8 2 1 6 7 5 9 0 5 7 2 6 9 1 9 4 4 7 4 8 1 1 6 1 9]\n",
            "\n",
            "Mean: 5.11, Median: 5.5, Standard Deviation: 2.9492202359267776\n"
          ],
          "name": "stdout"
        }
      ]
    },
    {
      "cell_type": "code",
      "metadata": {
        "id": "8rIbQ_GS9YUn",
        "colab_type": "code",
        "outputId": "fc5f16c0-8c30-419e-b773-e125d14679c4",
        "colab": {
          "base_uri": "https://localhost:8080/",
          "height": 221
        }
      },
      "source": [
        "#Task_8\n",
        "\n",
        "a = np.random.random((5,5))\n",
        "print(a)\n",
        "print(\"\")\n",
        "\n",
        "max, min = a.max(), a.min()\n",
        "a = (a - min)/(max - min)\n",
        "\n",
        "print(\"normalization:\")\n",
        "print(a)"
      ],
      "execution_count": 0,
      "outputs": [
        {
          "output_type": "stream",
          "text": [
            "[[0.48526296 0.99702338 0.99894733 0.18166827 0.94775008]\n",
            " [0.85014727 0.65848021 0.69275179 0.07134769 0.24526773]\n",
            " [0.02238983 0.2713305  0.52061597 0.37212985 0.71292679]\n",
            " [0.1469655  0.47958679 0.94267424 0.65897322 0.27413923]\n",
            " [0.08538841 0.7506396  0.79055474 0.34912256 0.11693832]]\n",
            "\n",
            "normalization:\n",
            "[[0.47398451 0.99802986 1.         0.16310196 0.94757374]\n",
            " [0.84762796 0.65135988 0.68645417 0.05013311 0.22822814]\n",
            " [0.         0.25491656 0.51018618 0.35813562 0.70711346]\n",
            " [0.12756614 0.46817208 0.94237606 0.65186472 0.25779271]\n",
            " [0.06451088 0.74573158 0.78660489 0.33457603 0.09681815]]\n"
          ],
          "name": "stdout"
        }
      ]
    },
    {
      "cell_type": "code",
      "metadata": {
        "id": "IwACYb0m_Wf5",
        "colab_type": "code",
        "outputId": "ff819c44-d1e9-4abf-c571-2c7b0fd5779a",
        "colab": {
          "base_uri": "https://localhost:8080/",
          "height": 595
        }
      },
      "source": [
        "#Task_9\n",
        "\n",
        "a = np.random.randint(0, 10, (3,4,4))\n",
        "print(\"a=\",a)\n",
        "print(\"\")\n",
        "\n",
        "b = np.random.randint(0, 10, (4,4))\n",
        "print(\"b=\",b)\n",
        "print(\"\")\n",
        "\n",
        "c = a*b\n",
        "print(\"c=\",c)"
      ],
      "execution_count": 0,
      "outputs": [
        {
          "output_type": "stream",
          "text": [
            "a= [[[6 1 8 1]\n",
            "  [3 1 9 3]\n",
            "  [0 3 3 3]\n",
            "  [7 1 3 3]]\n",
            "\n",
            " [[4 3 4 9]\n",
            "  [8 8 0 8]\n",
            "  [0 8 6 6]\n",
            "  [0 3 4 7]]\n",
            "\n",
            " [[1 1 0 6]\n",
            "  [9 6 6 8]\n",
            "  [2 0 5 8]\n",
            "  [2 0 6 6]]]\n",
            "\n",
            "b= [[3 0 4 0]\n",
            " [9 3 1 8]\n",
            " [7 2 5 9]\n",
            " [4 1 6 1]]\n",
            "\n",
            "c= [[[18  0 32  0]\n",
            "  [27  3  9 24]\n",
            "  [ 0  6 15 27]\n",
            "  [28  1 18  3]]\n",
            "\n",
            " [[12  0 16  0]\n",
            "  [72 24  0 64]\n",
            "  [ 0 16 30 54]\n",
            "  [ 0  3 24  7]]\n",
            "\n",
            " [[ 3  0  0  0]\n",
            "  [81 18  6 64]\n",
            "  [14  0 25 72]\n",
            "  [ 8  0 36  6]]]\n"
          ],
          "name": "stdout"
        }
      ]
    }
  ]
}